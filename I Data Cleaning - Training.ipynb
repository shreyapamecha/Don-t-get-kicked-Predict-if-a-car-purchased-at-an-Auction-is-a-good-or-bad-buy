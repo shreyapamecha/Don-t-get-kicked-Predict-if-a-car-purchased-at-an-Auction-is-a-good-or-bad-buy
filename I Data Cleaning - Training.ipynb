{
 "cells": [
  {
   "cell_type": "markdown",
   "id": "c1be5602",
   "metadata": {},
   "source": [
    "## AppOrchid Assignment "
   ]
  },
  {
   "cell_type": "markdown",
   "id": "3f0306fd",
   "metadata": {},
   "source": [
    "Objective: To classify if the car purchased at an auction is a good/bad buy - Classification problem "
   ]
  },
  {
   "cell_type": "code",
   "execution_count": 399,
   "id": "d1c50d0e",
   "metadata": {},
   "outputs": [],
   "source": [
    "#importing libraries\n",
    "import numpy as np\n",
    "import pandas as pd\n",
    "import matplotlib.pyplot as plt\n",
    "from sklearn.model_selection import train_test_split\n",
    "from sklearn.linear_model import LinearRegression\n",
    "from sklearn import svm\n",
    "from sklearn import metrics\n",
    "from sklearn.preprocessing import MinMaxScaler\n",
    "\n",
    "pd.set_option(\"display.max_columns\", None)"
   ]
  },
  {
   "cell_type": "markdown",
   "id": "15f2657b",
   "metadata": {},
   "source": [
    "#### Data Cleaning"
   ]
  },
  {
   "cell_type": "code",
   "execution_count": 400,
   "id": "43a9a1ef",
   "metadata": {},
   "outputs": [
    {
     "name": "stdout",
     "output_type": "stream",
     "text": [
      "       RefId  IsBadBuy  PurchDate Auction  VehYear  VehicleAge       Make  \\\n",
      "0          1         0  12/7/2009   ADESA     2006           3      MAZDA   \n",
      "1          2         0  12/7/2009   ADESA     2004           5      DODGE   \n",
      "2          3         0  12/7/2009   ADESA     2005           4      DODGE   \n",
      "3          4         0  12/7/2009   ADESA     2004           5      DODGE   \n",
      "4          5         0  12/7/2009   ADESA     2005           4       FORD   \n",
      "...      ...       ...        ...     ...      ...         ...        ...   \n",
      "72978  73010         1  12/2/2009   ADESA     2001           8    MERCURY   \n",
      "72979  73011         0  12/2/2009   ADESA     2007           2  CHEVROLET   \n",
      "72980  73012         0  12/2/2009   ADESA     2005           4       JEEP   \n",
      "72981  73013         0  12/2/2009   ADESA     2006           3  CHEVROLET   \n",
      "72982  73014         0  12/2/2009   ADESA     2006           3      MAZDA   \n",
      "\n",
      "                      Model Trim           SubModel   Color Transmission  \\\n",
      "0                    MAZDA3    i         4D SEDAN I     RED         AUTO   \n",
      "1       1500 RAM PICKUP 2WD   ST  QUAD CAB 4.7L SLT   WHITE         AUTO   \n",
      "2                STRATUS V6  SXT   4D SEDAN SXT FFV  MAROON         AUTO   \n",
      "3                      NEON  SXT           4D SEDAN  SILVER         AUTO   \n",
      "4                     FOCUS  ZX3       2D COUPE ZX3  SILVER       MANUAL   \n",
      "...                     ...  ...                ...     ...          ...   \n",
      "72978                 SABLE   GS        4D SEDAN GS   BLACK         AUTO   \n",
      "72979             MALIBU 4C   LS        4D SEDAN LS  SILVER         AUTO   \n",
      "72980  GRAND CHEROKEE 2WD V  Lar    4D WAGON LAREDO  SILVER         AUTO   \n",
      "72981                IMPALA   LS        4D SEDAN LS   WHITE         AUTO   \n",
      "72982                MAZDA6    s         4D SEDAN S  SILVER         AUTO   \n",
      "\n",
      "       WheelTypeID WheelType  VehOdo  Nationality         Size  \\\n",
      "0              1.0     Alloy   89046  OTHER ASIAN       MEDIUM   \n",
      "1              1.0     Alloy   93593     AMERICAN  LARGE TRUCK   \n",
      "2              2.0    Covers   73807     AMERICAN       MEDIUM   \n",
      "3              1.0     Alloy   65617     AMERICAN      COMPACT   \n",
      "4              2.0    Covers   69367     AMERICAN      COMPACT   \n",
      "...            ...       ...     ...          ...          ...   \n",
      "72978          1.0     Alloy   45234     AMERICAN       MEDIUM   \n",
      "72979          NaN       NaN   71759     AMERICAN       MEDIUM   \n",
      "72980          1.0     Alloy   88500     AMERICAN   MEDIUM SUV   \n",
      "72981          1.0     Alloy   79554     AMERICAN        LARGE   \n",
      "72982          1.0     Alloy   66855  OTHER ASIAN       MEDIUM   \n",
      "\n",
      "      TopThreeAmericanName  MMRAcquisitionAuctionAveragePrice  \\\n",
      "0                    OTHER                             8155.0   \n",
      "1                 CHRYSLER                             6854.0   \n",
      "2                 CHRYSLER                             3202.0   \n",
      "3                 CHRYSLER                             1893.0   \n",
      "4                     FORD                             3913.0   \n",
      "...                    ...                                ...   \n",
      "72978                 FORD                             1996.0   \n",
      "72979                   GM                             6418.0   \n",
      "72980             CHRYSLER                             8545.0   \n",
      "72981                   GM                             6420.0   \n",
      "72982                OTHER                             7535.0   \n",
      "\n",
      "       MMRAcquisitionAuctionCleanPrice  MMRAcquisitionRetailAveragePrice  \\\n",
      "0                               9829.0                           11636.0   \n",
      "1                               8383.0                           10897.0   \n",
      "2                               4760.0                            6943.0   \n",
      "3                               2675.0                            4658.0   \n",
      "4                               5054.0                            7723.0   \n",
      "...                                ...                               ...   \n",
      "72978                           2993.0                            2656.0   \n",
      "72979                           7325.0                            7431.0   \n",
      "72980                           9959.0                            9729.0   \n",
      "72981                           7604.0                            7434.0   \n",
      "72982                           8771.0                            8638.0   \n",
      "\n",
      "       MMRAcquisitonRetailCleanPrice  MMRCurrentAuctionAveragePrice  \\\n",
      "0                            13600.0                         7451.0   \n",
      "1                            12572.0                         7456.0   \n",
      "2                             8457.0                         4035.0   \n",
      "3                             5690.0                         1844.0   \n",
      "4                             8707.0                         3247.0   \n",
      "...                              ...                            ...   \n",
      "72978                         3732.0                         2190.0   \n",
      "72979                         8411.0                         6785.0   \n",
      "72980                        11256.0                         8375.0   \n",
      "72981                         8712.0                         6590.0   \n",
      "72982                         9973.0                         7730.0   \n",
      "\n",
      "       MMRCurrentAuctionCleanPrice  MMRCurrentRetailAveragePrice  \\\n",
      "0                           8552.0                       11597.0   \n",
      "1                           9222.0                       11374.0   \n",
      "2                           5557.0                        7146.0   \n",
      "3                           2646.0                        4375.0   \n",
      "4                           4384.0                        6739.0   \n",
      "...                            ...                           ...   \n",
      "72978                       3055.0                        4836.0   \n",
      "72979                       8132.0                       10151.0   \n",
      "72980                       9802.0                       11831.0   \n",
      "72981                       7684.0                       10099.0   \n",
      "72982                       9102.0                       11954.0   \n",
      "\n",
      "       MMRCurrentRetailCleanPrice PRIMEUNIT AUCGUART  BYRNO  VNZIP1 VNST  \\\n",
      "0                         12409.0       NaN      NaN  21973   33619   FL   \n",
      "1                         12791.0       NaN      NaN  19638   33619   FL   \n",
      "2                          8702.0       NaN      NaN  19638   33619   FL   \n",
      "3                          5518.0       NaN      NaN  19638   33619   FL   \n",
      "4                          7911.0       NaN      NaN  19638   33619   FL   \n",
      "...                           ...       ...      ...    ...     ...  ...   \n",
      "72978                      5937.0       NaN      NaN  18111   30212   GA   \n",
      "72979                     11652.0       NaN      NaN  18881   30212   GA   \n",
      "72980                     14402.0       NaN      NaN  18111   30212   GA   \n",
      "72981                     11228.0       NaN      NaN  18881   30212   GA   \n",
      "72982                     13246.0       NaN      NaN  18111   30212   GA   \n",
      "\n",
      "       VehBCost  IsOnlineSale  WarrantyCost  \n",
      "0        7100.0             0          1113  \n",
      "1        7600.0             0          1053  \n",
      "2        4900.0             0          1389  \n",
      "3        4100.0             0           630  \n",
      "4        4000.0             0          1020  \n",
      "...         ...           ...           ...  \n",
      "72978    4200.0             0           993  \n",
      "72979    6200.0             0          1038  \n",
      "72980    8200.0             0          1893  \n",
      "72981    7000.0             0          1974  \n",
      "72982    8000.0             0          1313  \n",
      "\n",
      "[72983 rows x 34 columns]\n"
     ]
    }
   ],
   "source": [
    "#reading traning.csv\n",
    "df = pd.DataFrame(pd.read_csv('training.csv'))\n",
    "print(df)"
   ]
  },
  {
   "cell_type": "code",
   "execution_count": 401,
   "id": "0c915b38",
   "metadata": {},
   "outputs": [
    {
     "name": "stdout",
     "output_type": "stream",
     "text": [
      "0    64007\n",
      "1     8976\n",
      "Name: IsBadBuy, dtype: int64\n"
     ]
    }
   ],
   "source": [
    "## Checking if the dataset is balanced or not\n",
    "count_x = df['IsBadBuy'].value_counts()\n",
    "print(count_x)\n",
    "\n",
    "#This is an unbalanced dataset. Imbalanced data can hamper model accuracy. To avoid that, we will later use some resampling \n",
    "#techniques and see which one works best for our database."
   ]
  },
  {
   "cell_type": "code",
   "execution_count": 402,
   "id": "c68a2d5d",
   "metadata": {},
   "outputs": [
    {
     "name": "stdout",
     "output_type": "stream",
     "text": [
      "Unique values of the following feature columns \n",
      "\n",
      "Auction:  ['ADESA' 'OTHER' 'MANHEIM'] \n",
      " MANHEIM    41043\n",
      "OTHER      17501\n",
      "ADESA      14439\n",
      "Name: Auction, dtype: int64\n",
      "\n",
      "\n",
      "Transmission:  ['AUTO' 'MANUAL' nan 'Manual'] \n",
      " AUTO      70398\n",
      "MANUAL     2575\n",
      "Manual        1\n",
      "Name: Transmission, dtype: int64\n",
      "\n",
      "\n",
      "WheelType:  ['Alloy' 'Covers' nan 'Special'] \n",
      " Alloy      36050\n",
      "Covers     33004\n",
      "Special      755\n",
      "Name: WheelType, dtype: int64\n",
      "\n",
      "\n",
      "Nationality:  ['OTHER ASIAN' 'AMERICAN' 'TOP LINE ASIAN' 'OTHER' nan] \n",
      " AMERICAN          61028\n",
      "OTHER ASIAN        8033\n",
      "TOP LINE ASIAN     3722\n",
      "OTHER               195\n",
      "Name: Nationality, dtype: int64\n",
      "\n",
      "\n",
      "Size:  ['MEDIUM' 'LARGE TRUCK' 'COMPACT' 'LARGE' 'VAN' 'MEDIUM SUV' 'LARGE SUV'\n",
      " 'SPECIALTY' 'SPORTS' 'CROSSOVER' 'SMALL SUV' 'SMALL TRUCK' nan] \n",
      " MEDIUM         30785\n",
      "LARGE           8850\n",
      "MEDIUM SUV      8090\n",
      "COMPACT         7205\n",
      "VAN             5854\n",
      "LARGE TRUCK     3170\n",
      "SMALL SUV       2276\n",
      "SPECIALTY       1915\n",
      "CROSSOVER       1759\n",
      "LARGE SUV       1433\n",
      "SMALL TRUCK      864\n",
      "SPORTS           777\n",
      "Name: Size, dtype: int64\n",
      "\n",
      "\n",
      "TopThreeAmericanName:  ['OTHER' 'CHRYSLER' 'FORD' 'GM' nan] \n",
      " GM          25314\n",
      "CHRYSLER    23399\n",
      "FORD        12315\n",
      "OTHER       11950\n",
      "Name: TopThreeAmericanName, dtype: int64\n",
      "\n",
      "\n",
      "PRIMEUNIT:  [nan 'NO' 'YES'] \n",
      " NO     3357\n",
      "YES      62\n",
      "Name: PRIMEUNIT, dtype: int64\n",
      "\n",
      "\n",
      "AUCGUART:  [nan 'GREEN' 'RED'] \n",
      " GREEN    3340\n",
      "RED        79\n",
      "Name: AUCGUART, dtype: int64\n",
      "\n",
      "\n",
      "IsOnlineSale:  [0 1] \n",
      " 0    71138\n",
      "1     1845\n",
      "Name: IsOnlineSale, dtype: int64\n",
      "\n",
      "\n"
     ]
    }
   ],
   "source": [
    "#Get unique values of some of the categorical features\n",
    "\n",
    "print('Unique values of the following feature columns \\n')\n",
    "print('Auction: ', df.Auction.unique(), '\\n', df['Auction'].value_counts())\n",
    "print('\\n')\n",
    "#print('Make: ', df.Make.unique(), '\\n', df['Make'].value_counts()) \n",
    "#print('Model: ', df.Model.unique(), '\\n', df['Model'].value_counts()) // High cardinality\n",
    "#print('SubModel: ', df.SubModel.unique(), '\\n', df['SubModel'].value_counts())\n",
    "#print('Trim: ', df.SubModel.unique(), '\\n', df['Trim'].value_counts())\n",
    "print('Transmission: ', df.Transmission.unique(), '\\n', df['Transmission'].value_counts())\n",
    "print('\\n')\n",
    "print('WheelType: ', df.WheelType.unique(), '\\n', df['WheelType'].value_counts())\n",
    "print('\\n')\n",
    "print('Nationality: ', df.Nationality.unique(), '\\n', df['Nationality'].value_counts())\n",
    "print('\\n')\n",
    "print('Size: ', df.Size.unique(), '\\n', df['Size'].value_counts())\n",
    "print('\\n')\n",
    "print('TopThreeAmericanName: ', df.TopThreeAmericanName.unique(), '\\n', df['TopThreeAmericanName'].value_counts())\n",
    "print('\\n')\n",
    "print('PRIMEUNIT: ', df.PRIMEUNIT.unique(), '\\n', df['PRIMEUNIT'].value_counts())\n",
    "print('\\n')\n",
    "print('AUCGUART: ', df.AUCGUART.unique(), '\\n', df['AUCGUART'].value_counts())\n",
    "print('\\n')\n",
    "#print('VNZIP1: ', df.VNZIP1.unique(), '\\n', df['VNZIP1'].value_counts())\n",
    "#print('VNST: ', df.VNST.unique(), '\\n', df['VNST'].value_counts())\n",
    "#print('\\n')\n",
    "print('IsOnlineSale: ', df.IsOnlineSale.unique(), '\\n', df['IsOnlineSale'].value_counts())\n",
    "print('\\n')"
   ]
  },
  {
   "cell_type": "code",
   "execution_count": 404,
   "id": "bd5b690f",
   "metadata": {},
   "outputs": [],
   "source": [
    "#print(df.describe())"
   ]
  },
  {
   "cell_type": "code",
   "execution_count": 403,
   "id": "3584525f",
   "metadata": {},
   "outputs": [
    {
     "name": "stdout",
     "output_type": "stream",
     "text": [
      "RefId                                    0\n",
      "IsBadBuy                                 0\n",
      "PurchDate                                0\n",
      "Auction                                  0\n",
      "VehYear                                  0\n",
      "VehicleAge                               0\n",
      "Make                                     0\n",
      "Model                                    0\n",
      "Trim                                  2360\n",
      "SubModel                                 8\n",
      "Color                                    8\n",
      "Transmission                             9\n",
      "WheelTypeID                           3169\n",
      "WheelType                             3174\n",
      "VehOdo                                   0\n",
      "Nationality                              5\n",
      "Size                                     5\n",
      "TopThreeAmericanName                     5\n",
      "MMRAcquisitionAuctionAveragePrice       18\n",
      "MMRAcquisitionAuctionCleanPrice         18\n",
      "MMRAcquisitionRetailAveragePrice        18\n",
      "MMRAcquisitonRetailCleanPrice           18\n",
      "MMRCurrentAuctionAveragePrice          315\n",
      "MMRCurrentAuctionCleanPrice            315\n",
      "MMRCurrentRetailAveragePrice           315\n",
      "MMRCurrentRetailCleanPrice             315\n",
      "PRIMEUNIT                            69564\n",
      "AUCGUART                             69564\n",
      "BYRNO                                    0\n",
      "VNZIP1                                   0\n",
      "VNST                                     0\n",
      "VehBCost                                 0\n",
      "IsOnlineSale                             0\n",
      "WarrantyCost                             0\n",
      "dtype: int64\n"
     ]
    }
   ],
   "source": [
    "#Imputate missing values or remove rows or columns if NaN values are significantly higher\n",
    "\n",
    "print(df.isna().sum())"
   ]
  },
  {
   "cell_type": "code",
   "execution_count": 405,
   "id": "f6268a52",
   "metadata": {},
   "outputs": [],
   "source": [
    "#Remove 'PRIMEUNIT' AND 'AUCGUART' from the database because around 95.3% cells are filled with Nan values\n",
    "df=df.drop(['PRIMEUNIT','AUCGUART'],axis=1)"
   ]
  },
  {
   "cell_type": "code",
   "execution_count": 406,
   "id": "23439cb8",
   "metadata": {},
   "outputs": [],
   "source": [
    "#Filling NaN values of WheelType and WheelTypeID\n",
    "#'Alloy' is mapped to '1', 'Covers' to '2' and Special to '3'\n",
    "\n",
    "Dict_WheelType = {'Alloy':1,'Covers':2,'Special':3}\n",
    "\n",
    "# print('Number of elements which are null in WheelTypeID (before): ', df.WheelTypeID.isna().sum())\n",
    "# df.WheelTypeID = df.WheelTypeID.fillna(df.WheelType.map(Dict_WheelType))\n",
    "# print('Number of elements which are null in WheelTypeID (after): ', df.WheelTypeID.isna().sum()\n",
    "\n",
    "#I already have WheelTypeID, so the categorical features: 'WheelType' is not required. Thus, removing it from the main dataframe\n",
    "df=df.drop(['WheelType'],axis=1)"
   ]
  },
  {
   "cell_type": "code",
   "execution_count": 407,
   "id": "df593fa0",
   "metadata": {},
   "outputs": [
    {
     "name": "stdout",
     "output_type": "stream",
     "text": [
      "Total Null values of WheelTypeID:  3169\n"
     ]
    }
   ],
   "source": [
    "df2 = df[df['WheelTypeID'].isnull()]\n",
    "print('Total Null values of WheelTypeID: ', len(df2.index))\n",
    "df3 = df[~df.index.isin(df2.index)]\n",
    "\n",
    "#print(len(df3.index))\n",
    "df4 = pd.merge(df2,df3, how='left', on=['Make','Model','SubModel','Trim','Transmission','VehYear','Nationality','TopThreeAmericanName','Size'])\n",
    "#print(len(df4.index))\n",
    "\n",
    "df5=df4[['Make','Model','SubModel','Trim','Transmission','VehYear','Nationality','TopThreeAmericanName','Size','WheelTypeID_y']]\n",
    "df5=df5.drop_duplicates(subset=['Make','Model','SubModel','Trim','Transmission','VehYear','Nationality','TopThreeAmericanName','Size'])\n",
    "#print(len(df5.index))\n",
    "\n",
    "#print(df5)"
   ]
  },
  {
   "cell_type": "code",
   "execution_count": 408,
   "id": "a69fd139",
   "metadata": {},
   "outputs": [
    {
     "name": "stdout",
     "output_type": "stream",
     "text": [
      "Null values of WheelTypeID earlier:  3169\n",
      "Null values of WheelTypeID now:  97\n"
     ]
    }
   ],
   "source": [
    "#print(len(df.index))\n",
    "df_x = pd.merge(df,df5, how='left', on=['Make','Model','SubModel','Trim','Transmission','VehYear','Nationality','TopThreeAmericanName','Size'])\n",
    "df_x.WheelTypeID.fillna(df_x.WheelTypeID_y, inplace=True)\n",
    "\n",
    "print('Null values of WheelTypeID earlier: ', df.WheelTypeID.isna().sum())\n",
    "print('Null values of WheelTypeID now: ', df_x.WheelTypeID.isna().sum())\n",
    "df_x = df_x.drop(['WheelTypeID_y'],axis=1)\n",
    "#print(len(df_x.index))\n",
    "#print(df_x)"
   ]
  },
  {
   "cell_type": "code",
   "execution_count": 409,
   "id": "90f98d88",
   "metadata": {},
   "outputs": [
    {
     "name": "stdout",
     "output_type": "stream",
     "text": [
      "Null values of WheelTypeID earlier:  97\n",
      "Null values of WheelTypeID now:  7\n"
     ]
    }
   ],
   "source": [
    "df2 = df_x[df_x['WheelTypeID'].isnull()]\n",
    "#print('Total Null values of WheelTypeID: ', len(df2.index))\n",
    "df3 = df_x[~df_x.index.isin(df2.index)]\n",
    "\n",
    "#print(len(df3.index))\n",
    "df4 = pd.merge(df2,df3, how='left', on=['Make','Model'])\n",
    "#print(len(df4.index))\n",
    "\n",
    "df5=df4[['Make','Model','WheelTypeID_y']]\n",
    "df5=df5.drop_duplicates(subset=['Make','Model'])\n",
    "#print(len(df5.index))\n",
    "\n",
    "df_y = pd.merge(df_x,df5, how='left', on=['Make','Model'])\n",
    "df_y.WheelTypeID.fillna(df_y.WheelTypeID_y, inplace=True)\n",
    "\n",
    "print('Null values of WheelTypeID earlier: ', df_x.WheelTypeID.isna().sum())\n",
    "print('Null values of WheelTypeID now: ', df_y.WheelTypeID.isna().sum())\n",
    "df_y = df_y.drop(['WheelTypeID_y'],axis=1)"
   ]
  },
  {
   "cell_type": "code",
   "execution_count": 410,
   "id": "2fa881c8",
   "metadata": {
    "scrolled": true
   },
   "outputs": [
    {
     "name": "stdout",
     "output_type": "stream",
     "text": [
      "       RefId  IsBadBuy   PurchDate  Auction  VehYear  VehicleAge      Make  \\\n",
      "9663    9672         1   3/17/2009  MANHEIM     2004           5  CADILLAC   \n",
      "14463  14473         1   2/11/2009    OTHER     2006           3  CHRYSLER   \n",
      "25908  25926         1   8/11/2010    OTHER     2001           9      JEEP   \n",
      "41976  41999         1   6/24/2009    OTHER     2007           2       KIA   \n",
      "48207  48231         1   8/19/2009    OTHER     2007           2  CADILLAC   \n",
      "64213  64244         1   3/10/2010    ADESA     2002           8     ISUZU   \n",
      "71458  71490         1  10/15/2009    ADESA     2007           2     MAZDA   \n",
      "\n",
      "                      Model Trim                          SubModel  Color  \\\n",
      "9663   SRX AWD V8 4.6L V8 S  NaN                            4D SUV  BLACK   \n",
      "14463  300C 5.7L V8 SFI / S    C                     4D SEDAN HEMI  GREEN   \n",
      "25908       CHEROKEE 4WD 6C  Spo                    4D WAGON SPORT   BLUE   \n",
      "41976   RONDO 4C 2.4L I4 DI   EX                          4D WAGON  BEIGE   \n",
      "48207          ESCALADE 2WD  Bas                4D SUV 6.2L LUXURY  BLACK   \n",
      "64213          AXIOM 2WD V6  Bas                  4D SPORT UTILITY  WHITE   \n",
      "71458           CX-7 FWD 4C  NaN  4D SPORT UTILITY GRAND TOURING A   GREY   \n",
      "\n",
      "      Transmission  WheelTypeID  VehOdo  Nationality        Size  \\\n",
      "9663          AUTO          NaN   67648     AMERICAN  MEDIUM SUV   \n",
      "14463         AUTO          NaN   84738     AMERICAN   SPECIALTY   \n",
      "25908         AUTO          NaN   98449     AMERICAN  MEDIUM SUV   \n",
      "41976         AUTO          NaN   48870  OTHER ASIAN   CROSSOVER   \n",
      "48207         AUTO          NaN   20530     AMERICAN   LARGE SUV   \n",
      "64213         AUTO          NaN   77377  OTHER ASIAN  MEDIUM SUV   \n",
      "71458         AUTO          NaN   73822  OTHER ASIAN  MEDIUM SUV   \n",
      "\n",
      "      TopThreeAmericanName  MMRAcquisitionAuctionAveragePrice  \\\n",
      "9663                    GM                            10211.0   \n",
      "14463             CHRYSLER                            14686.0   \n",
      "25908             CHRYSLER                             3769.0   \n",
      "41976                OTHER                             6531.0   \n",
      "48207                   GM                            33543.0   \n",
      "64213                OTHER                             3431.0   \n",
      "71458                OTHER                            16412.0   \n",
      "\n",
      "       MMRAcquisitionAuctionCleanPrice  MMRAcquisitionRetailAveragePrice  \\\n",
      "9663                           11975.0                           11528.0   \n",
      "14463                          16405.0                           16361.0   \n",
      "25908                           5269.0                            6517.0   \n",
      "41976                           8476.0                            7553.0   \n",
      "48207                          36701.0                           36726.0   \n",
      "64213                           4330.0                            5870.0   \n",
      "71458                          18427.0                           18225.0   \n",
      "\n",
      "       MMRAcquisitonRetailCleanPrice  MMRCurrentAuctionAveragePrice  \\\n",
      "9663                         13433.0                        10211.0   \n",
      "14463                        18217.0                        15254.0   \n",
      "25908                         8029.0                         3769.0   \n",
      "41976                         9654.0                         6531.0   \n",
      "48207                        40137.0                        33369.0   \n",
      "64213                         7408.0                         3753.0   \n",
      "71458                        20401.0                        16412.0   \n",
      "\n",
      "       MMRCurrentAuctionCleanPrice  MMRCurrentRetailAveragePrice  \\\n",
      "9663                       11975.0                       11528.0   \n",
      "14463                      17050.0                       16974.0   \n",
      "25908                       5269.0                        6517.0   \n",
      "41976                       8476.0                        7553.0   \n",
      "48207                      36478.0                       36539.0   \n",
      "64213                       4839.0                        6243.0   \n",
      "71458                      18427.0                       18225.0   \n",
      "\n",
      "       MMRCurrentRetailCleanPrice  BYRNO  VNZIP1 VNST  VehBCost  IsOnlineSale  \\\n",
      "9663                      13433.0  20740   21075   MD   10230.0             0   \n",
      "14463                     18914.0  17675   29697   SC    9800.0             0   \n",
      "25908                      8029.0  18880   29697   SC    5400.0             0   \n",
      "41976                      9654.0  17675   27407   NC    7400.0             0   \n",
      "48207                     39896.0   3582   85260   AZ   45469.0             0   \n",
      "64213                      8050.0  21053   85226   AZ    7540.0             0   \n",
      "71458                     20401.0  17675   28273   NC   10570.0             0   \n",
      "\n",
      "       WarrantyCost  \n",
      "9663           2538  \n",
      "14463          1503  \n",
      "25908          2074  \n",
      "41976           623  \n",
      "48207          1001  \n",
      "64213          1572  \n",
      "71458          1623  \n"
     ]
    }
   ],
   "source": [
    "#print(df_y.WheelTypeID.isna().sum())\n",
    "#print(df_y)\n",
    "df2 = df_y[df_y['WheelTypeID'].isnull()]\n",
    "print(df2)\n",
    "\n",
    "#Since '1' is the minority class, we shouldn't remove these rows."
   ]
  },
  {
   "cell_type": "code",
   "execution_count": 411,
   "id": "90748f62",
   "metadata": {},
   "outputs": [
    {
     "name": "stdout",
     "output_type": "stream",
     "text": [
      "['CADILLAC' 'CHRYSLER' 'JEEP' 'KIA' 'ISUZU' 'MAZDA']\n",
      "{'CADILLAC': 1.0, 'CHRYSLER': 2.0, 'JEEP': 1.0, 'KIA': 2.0, 'ISUZU': 1.0, 'MAZDA': 1.0}\n"
     ]
    }
   ],
   "source": [
    "unique_Make_values_df2 = df2.Make.unique()\n",
    "print(unique_Make_values_df2)\n",
    "\n",
    "dict_a={}\n",
    "\n",
    "df3 = df_y[df_y['WheelTypeID'].notna()]\n",
    "for x in unique_Make_values_df2:\n",
    "    df4 = df3[df3['Make']==str(x)]\n",
    "    if len(df4.index)==0:\n",
    "        print('empty')\n",
    "        continue\n",
    "    dict_a[x]=df4['WheelTypeID'].value_counts().idxmax()\n",
    "    \n",
    "    \n",
    "print(dict_a)   \n",
    "    "
   ]
  },
  {
   "cell_type": "code",
   "execution_count": 412,
   "id": "905f9cf6",
   "metadata": {},
   "outputs": [
    {
     "name": "stdout",
     "output_type": "stream",
     "text": [
      "Number of null values of WheelTypeID earlier:  7\n",
      "Number of null values of WheelTypeID now:  0\n"
     ]
    }
   ],
   "source": [
    "#df_y.WheelTypeID.fillna(df_y.apply(lambda row: row['']))\n",
    "\n",
    "print('Number of null values of WheelTypeID earlier: ', df_y.WheelTypeID.isna().sum())\n",
    "\n",
    "# def function1(x):\n",
    "#     return dict_a[x]\n",
    "\n",
    "df_y['WheelTypeID'] = df_y.apply(\n",
    "    lambda row: dict_a[row['Make']] if np.isnan(row['WheelTypeID']) else row['WheelTypeID'],\n",
    "    axis=1\n",
    ")\n",
    "\n",
    "print('Number of null values of WheelTypeID now: ', df_y.WheelTypeID.isna().sum())"
   ]
  },
  {
   "cell_type": "code",
   "execution_count": 413,
   "id": "4237aaac",
   "metadata": {},
   "outputs": [
    {
     "name": "stdout",
     "output_type": "stream",
     "text": [
      "           Make                 Model Trim         SubModel_y\n",
      "0         DODGE  STRATUS V6 2.7L V6 M  SXT   4D SEDAN SXT FFV\n",
      "1674  CHEVROLET  S10 PICKUP 2WD 4C 2.  Bas   REG CAB 2.2L FFV\n",
      "1692  CHEVROLET    IMPALA 3.4L V6 SFI  Bas           4D SEDAN\n",
      "2196    PONTIAC   GRAND AM V6 3.4L V6   SE       4D SEDAN SE1\n",
      "2346  CHEVROLET   CAVALIER 4C 2.2L I4  Bas           2D COUPE\n",
      "2585    MERCURY  MOUNTAINEER 2WD V8 4  NaN        4D SUV 4.6L\n",
      "2592       FORD  FREESTAR FWD V6 3.9L   SE  PASSENGER 3.9L SE\n"
     ]
    }
   ],
   "source": [
    "### Filling Nan values of SubModel\n",
    "\n",
    "df2 = df_y[df_y['SubModel'].isnull()]\n",
    "#print(df2)\n",
    "df3 = df_y[~df_y.index.isin(df2.index)]\n",
    "\n",
    "df4 = pd.merge(df2,df3, how='left', on=['Make','Model','Trim'])\n",
    "#print(df4)\n",
    "\n",
    "df5=df4[['Make','Model','Trim','SubModel_y']]\n",
    "df6 = df5.drop_duplicates()\n",
    "#print(df6)\n",
    "\n",
    "df6=df6.drop_duplicates(subset=['Make','Model','Trim'])\n",
    "print(df6)"
   ]
  },
  {
   "cell_type": "code",
   "execution_count": 414,
   "id": "b3f536a5",
   "metadata": {},
   "outputs": [
    {
     "name": "stdout",
     "output_type": "stream",
     "text": [
      "Number of null values of SubModel earlier:  8\n",
      "Number of null values of SubModel now:  0\n"
     ]
    }
   ],
   "source": [
    "db1 = pd.merge(df_y,df6, how='left', on=['Make','Model','Trim'])\n",
    "print('Number of null values of SubModel earlier: ', db1.SubModel.isna().sum())\n",
    "db1.SubModel.fillna(db1.SubModel_y, inplace=True)\n",
    "print('Number of null values of SubModel now: ', db1.SubModel.isna().sum())\n",
    "# print(df2[['Make','Model','Trim','SubModel']])\n",
    "#print(db1)"
   ]
  },
  {
   "cell_type": "code",
   "execution_count": 415,
   "id": "67cdaad8",
   "metadata": {},
   "outputs": [],
   "source": [
    "db1 = db1.drop(['SubModel_y'],axis=1)\n",
    "#print(db1)"
   ]
  },
  {
   "cell_type": "code",
   "execution_count": 416,
   "id": "b2cb5707",
   "metadata": {},
   "outputs": [
    {
     "name": "stdout",
     "output_type": "stream",
     "text": [
      "185\n"
     ]
    }
   ],
   "source": [
    "## Filling Nan values of Trim \n",
    "\n",
    "df2 = db1[db1['Trim'].isnull()]\n",
    "# # #print(df2)\n",
    "df3 = db1[~db1.index.isin(df2.index)]\n",
    "\n",
    "df4 = pd.merge(df2,df3, how='left', on=['Make','Model','SubModel'])\n",
    "# #print(df4)\n",
    "\n",
    "df5=df4[['Make','Model','SubModel','Trim_y']]\n",
    "df6 = df5.drop_duplicates()\n",
    "#print(df6)\n",
    "\n",
    "df6=df6.drop_duplicates(subset=['Make','Model','SubModel'])\n",
    "print(len(df6.index))\n",
    "\n",
    "# Each trim levels has different features and higher trim levels offer more equipment"
   ]
  },
  {
   "cell_type": "code",
   "execution_count": 417,
   "id": "2a131f6c",
   "metadata": {},
   "outputs": [
    {
     "name": "stdout",
     "output_type": "stream",
     "text": [
      "Number of null values of Trim earlier:  2360\n",
      "Number of null values of Trim now:  878\n"
     ]
    }
   ],
   "source": [
    "db2 = pd.merge(db1,df6, how='left', on=['Make','Model','SubModel'])\n",
    "print('Number of null values of Trim earlier: ', db2.Trim.isna().sum())\n",
    "db2.Trim.fillna(db2.Trim_y, inplace=True)\n",
    "print('Number of null values of Trim now: ', db2.Trim.isna().sum())\n"
   ]
  },
  {
   "cell_type": "code",
   "execution_count": 418,
   "id": "d4098253",
   "metadata": {},
   "outputs": [],
   "source": [
    "#Dropping 'Trim'\n",
    "db2 = db2.drop(['Trim_y'],axis=1)"
   ]
  },
  {
   "cell_type": "code",
   "execution_count": 419,
   "id": "d67a3a0d",
   "metadata": {},
   "outputs": [
    {
     "name": "stdout",
     "output_type": "stream",
     "text": [
      "['AUTO' 'MANUAL' nan 'Manual']\n",
      "['AUTO' 'MANUAL' nan]\n"
     ]
    }
   ],
   "source": [
    "## Filling Nan values of Transmission feature\n",
    "print(db2.Transmission.unique())\n",
    "\n",
    "db2[\"Transmission\"].replace({\"Manual\": \"MANUAL\"}, inplace=True)\n",
    "print(db2.Transmission.unique())"
   ]
  },
  {
   "cell_type": "code",
   "execution_count": 420,
   "id": "1bf4748c",
   "metadata": {},
   "outputs": [
    {
     "name": "stdout",
     "output_type": "stream",
     "text": [
      "8\n"
     ]
    }
   ],
   "source": [
    "df2 = db2[db2['Transmission'].isnull()]\n",
    "# # #print(df2)\n",
    "df3 = db2[~db2.index.isin(df2.index)]\n",
    "\n",
    "df4 = pd.merge(df2,df3, how='left', on=['Make','Model','SubModel'])\n",
    "# #print(df4)\n",
    "\n",
    "df5=df4[['Make','Model','SubModel','Transmission_y']]\n",
    "df6 = df5.drop_duplicates()\n",
    "#print(df6)\n",
    "\n",
    "df6=df6.drop_duplicates(subset=['Make','Model','SubModel'])\n",
    "print(len(df6.index))\n"
   ]
  },
  {
   "cell_type": "code",
   "execution_count": 421,
   "id": "88f7f07b",
   "metadata": {},
   "outputs": [
    {
     "name": "stdout",
     "output_type": "stream",
     "text": [
      "Number of null values of Transmission earlier:  9\n",
      "Number of null values of Transmission now:  0\n"
     ]
    }
   ],
   "source": [
    "db3 = pd.merge(db2,df6, how='left', on=['Make','Model','SubModel'])\n",
    "print('Number of null values of Transmission earlier: ', db3.Transmission.isna().sum())\n",
    "db3.Transmission.fillna(db3.Transmission_y, inplace=True)\n",
    "print('Number of null values of Transmission now: ', db3.Transmission.isna().sum())\n"
   ]
  },
  {
   "cell_type": "code",
   "execution_count": 422,
   "id": "6ba55ab8",
   "metadata": {},
   "outputs": [],
   "source": [
    "db3 = db3.drop(['Transmission_y'],axis=1)"
   ]
  },
  {
   "cell_type": "code",
   "execution_count": 423,
   "id": "0d5ad315",
   "metadata": {},
   "outputs": [
    {
     "name": "stdout",
     "output_type": "stream",
     "text": [
      "4\n"
     ]
    }
   ],
   "source": [
    "## Fillin Nan values of Nationality\n",
    "\n",
    "df2 = db3[db3['Nationality'].isnull()]\n",
    "# # #print(df2)\n",
    "df3 = db3[~db3.index.isin(df2.index)]\n",
    "\n",
    "df4 = pd.merge(df2,df3, how='left', on=['Make','Model','SubModel'])\n",
    "# #print(df4)\n",
    "\n",
    "df5=df4[['Make','Model','SubModel','Nationality_y']]\n",
    "df6 = df5.drop_duplicates()\n",
    "#print(df6)\n",
    "\n",
    "df6=df6.drop_duplicates(subset=['Make','Model','SubModel'])\n",
    "print(len(df6.index))"
   ]
  },
  {
   "cell_type": "code",
   "execution_count": 424,
   "id": "c245368a",
   "metadata": {},
   "outputs": [
    {
     "name": "stdout",
     "output_type": "stream",
     "text": [
      "Number of null values in Nationality earlier:  5\n",
      "Number of null values in Nationality now:  2\n"
     ]
    }
   ],
   "source": [
    "db4 = pd.merge(db3,df6, how='left', on=['Make','Model','SubModel'])\n",
    "print('Number of null values in Nationality earlier: ', db4.Nationality.isna().sum())\n",
    "db4.Nationality.fillna(db4.Nationality_y, inplace=True)\n",
    "print('Number of null values in Nationality now: ', db4.Nationality.isna().sum())"
   ]
  },
  {
   "cell_type": "code",
   "execution_count": 425,
   "id": "24f28c9c",
   "metadata": {},
   "outputs": [],
   "source": [
    "db4 = db4.drop(['Nationality_y'],axis=1)"
   ]
  },
  {
   "cell_type": "code",
   "execution_count": 426,
   "id": "20b9d157",
   "metadata": {},
   "outputs": [
    {
     "name": "stdout",
     "output_type": "stream",
     "text": [
      "4\n"
     ]
    }
   ],
   "source": [
    "df2 = db3[db3['Nationality'].isnull()]\n",
    "# # #print(df2)\n",
    "df3 = db3[~db3.index.isin(df2.index)]\n",
    "\n",
    "df4 = pd.merge(df2,df3, how='left', on=['Make'])\n",
    "# #print(df4)\n",
    "\n",
    "df5=df4[['Make','Nationality_y']]\n",
    "df6 = df5.drop_duplicates()\n",
    "#print(df6)\n",
    "\n",
    "df6=df6.drop_duplicates(subset=['Make'])\n",
    "print(len(df6.index))"
   ]
  },
  {
   "cell_type": "code",
   "execution_count": 427,
   "id": "b297a738",
   "metadata": {},
   "outputs": [
    {
     "name": "stdout",
     "output_type": "stream",
     "text": [
      "Number of null values in Nationality earlier:  2\n",
      "Number of null values in Nationality now:  0\n"
     ]
    }
   ],
   "source": [
    "db5 = pd.merge(db4,df6, how='left', on=['Make'])\n",
    "print('Number of null values in Nationality earlier: ', db5.Nationality.isna().sum())\n",
    "db5.Nationality.fillna(db5.Nationality_y, inplace=True)\n",
    "print('Number of null values in Nationality now: ', db5.Nationality.isna().sum())"
   ]
  },
  {
   "cell_type": "code",
   "execution_count": 428,
   "id": "3cc9f5e8",
   "metadata": {},
   "outputs": [],
   "source": [
    "db5=db5.drop(['Nationality_y'],axis=1)"
   ]
  },
  {
   "cell_type": "code",
   "execution_count": 429,
   "id": "3dd6cea6",
   "metadata": {},
   "outputs": [
    {
     "name": "stdout",
     "output_type": "stream",
     "text": [
      "4\n"
     ]
    }
   ],
   "source": [
    "## Filling Nan values of Size feature\n",
    "\n",
    "df2 = db5[db5['Size'].isnull()]\n",
    "# # #print(df2)\n",
    "df3 = db5[~db5.index.isin(df2.index)]\n",
    "\n",
    "df4 = pd.merge(df2,df3, how='left', on=['Make','Model','SubModel','Trim'])\n",
    "# #print(df4)\n",
    "\n",
    "df5=df4[['Make','Model','SubModel','Trim','Size_y']]\n",
    "df6 = df5.drop_duplicates()\n",
    "#print(df6)\n",
    "\n",
    "df6=df6.drop_duplicates(subset=['Make','Model','SubModel','Trim'])\n",
    "print(len(df6.index))"
   ]
  },
  {
   "cell_type": "code",
   "execution_count": 430,
   "id": "9bda06af",
   "metadata": {},
   "outputs": [
    {
     "name": "stdout",
     "output_type": "stream",
     "text": [
      "Number of null values in Size earlier:  5\n",
      "Number of null values in Size now:  2\n"
     ]
    }
   ],
   "source": [
    "db6 = pd.merge(db5,df6, how='left', on=['Make','Model','SubModel','Trim'])\n",
    "print('Number of null values in Size earlier: ', db6.Size.isna().sum())\n",
    "db6.Size.fillna(db6.Size_y, inplace=True)\n",
    "print('Number of null values in Size now: ', db6.Size.isna().sum())"
   ]
  },
  {
   "cell_type": "code",
   "execution_count": 431,
   "id": "3768913d",
   "metadata": {},
   "outputs": [],
   "source": [
    "db6 = db6.drop(['Size_y'],axis=1)"
   ]
  },
  {
   "cell_type": "code",
   "execution_count": 432,
   "id": "36e1f572",
   "metadata": {},
   "outputs": [
    {
     "name": "stdout",
     "output_type": "stream",
     "text": [
      "2\n",
      "Number of null values in Size earlier:  2\n",
      "Number of null values in Size now:  1\n"
     ]
    }
   ],
   "source": [
    "df2 = db6[db6['Size'].isnull()]\n",
    "# # #print(df2)\n",
    "df3 = db6[~db6.index.isin(df2.index)]\n",
    "\n",
    "df4 = pd.merge(df2,df3, how='left', on=['Make','Model'])\n",
    "# #print(df4)\n",
    "\n",
    "df5=df4[['Make','Model','Size_y']]\n",
    "df6 = df5.drop_duplicates()\n",
    "#print(df6)\n",
    "\n",
    "df6=df6.drop_duplicates(subset=['Make','Model'])\n",
    "print(len(df6.index))\n",
    "\n",
    "db7 = pd.merge(db6,df6, how='left', on=['Make','Model'])\n",
    "print('Number of null values in Size earlier: ', db7.Size.isna().sum())\n",
    "db7.Size.fillna(db7.Size_y, inplace=True)\n",
    "print('Number of null values in Size now: ', db7.Size.isna().sum())\n"
   ]
  },
  {
   "cell_type": "code",
   "execution_count": 433,
   "id": "2e55a406",
   "metadata": {},
   "outputs": [],
   "source": [
    "db7 = db7.drop(['Size_y'],axis=1)"
   ]
  },
  {
   "cell_type": "code",
   "execution_count": 434,
   "id": "d8fd1857",
   "metadata": {},
   "outputs": [],
   "source": [
    "db7.Size.fillna('SMALL TRUCK', inplace=True) #GMC SIERRA 1500 BASE is a small truck\n",
    "\n",
    "#df2 = db7[db7['Size'].isnull()]\n",
    "#print(df2)\n",
    " \n",
    "# df2 = db5[db5['Size'].isnull()]\n",
    "# print(df2)"
   ]
  },
  {
   "cell_type": "code",
   "execution_count": 435,
   "id": "493ff2c2",
   "metadata": {},
   "outputs": [
    {
     "name": "stdout",
     "output_type": "stream",
     "text": [
      "5\n",
      "       RefId  IsBadBuy   PurchDate  Auction  VehYear  VehicleAge     Make  \\\n",
      "10888  10897         0  10/19/2009  MANHEIM     2002           7      GMC   \n",
      "25169  25187         0  12/10/2009    OTHER     2008           1    DODGE   \n",
      "37986  38009         0  10/23/2009  MANHEIM     2006           3  HYUNDAI   \n",
      "69948  69980         0   2/17/2010    ADESA     2008           2     JEEP   \n",
      "69958  69990         0   2/24/2010    ADESA     2008           2     JEEP   \n",
      "\n",
      "                     Model Trim        SubModel   Color Transmission  \\\n",
      "10888          SIERRA 1500   SL            BASE   WHITE         AUTO   \n",
      "25169         NITRO 4WD V6  SXT  4D SUV 3.7L SE   WHITE         AUTO   \n",
      "37986  ELANTRA 2.0L I4 MPI  GLS        4D SEDAN  SILVER         AUTO   \n",
      "69948       PATRIOT 2WD 4C  Spo    4D SUV SPORT  SILVER         AUTO   \n",
      "69958       PATRIOT 2WD 4C  Spo    4D SUV SPORT   BLACK         AUTO   \n",
      "\n",
      "       WheelTypeID  VehOdo  Nationality         Size TopThreeAmericanName  \\\n",
      "10888          2.0   78288     AMERICAN  SMALL TRUCK                   GM   \n",
      "25169          1.0   82466     AMERICAN   MEDIUM SUV             CHRYSLER   \n",
      "37986          2.0   45047  OTHER ASIAN       MEDIUM                OTHER   \n",
      "69948          2.0   63822     AMERICAN    SMALL SUV             CHRYSLER   \n",
      "69958          2.0   61596     AMERICAN    SMALL SUV             CHRYSLER   \n",
      "\n",
      "       MMRAcquisitionAuctionAveragePrice  MMRAcquisitionAuctionCleanPrice  \\\n",
      "10888                                0.0                              0.0   \n",
      "25169                            11209.0                          12716.0   \n",
      "37986                                0.0                              0.0   \n",
      "69948                             8715.0                           9933.0   \n",
      "69958                             8759.0                           9966.0   \n",
      "\n",
      "       MMRAcquisitionRetailAveragePrice  MMRAcquisitonRetailCleanPrice  \\\n",
      "10888                               0.0                            0.0   \n",
      "25169                           15075.0                        16710.0   \n",
      "37986                               0.0                            0.0   \n",
      "69948                           13105.0                        14129.0   \n",
      "69958                           13397.0                        14222.0   \n",
      "\n",
      "       MMRCurrentAuctionAveragePrice  MMRCurrentAuctionCleanPrice  \\\n",
      "10888                            NaN                          NaN   \n",
      "25169                            NaN                          NaN   \n",
      "37986                            NaN                          NaN   \n",
      "69948                            NaN                          NaN   \n",
      "69958                        10159.0                      11695.0   \n",
      "\n",
      "       MMRCurrentRetailAveragePrice  MMRCurrentRetailCleanPrice  BYRNO  \\\n",
      "10888                           NaN                         NaN  16044   \n",
      "25169                           NaN                         NaN   8655   \n",
      "37986                           NaN                         NaN  20234   \n",
      "69948                           NaN                         NaN  21053   \n",
      "69958                       14026.0                     15410.0  21053   \n",
      "\n",
      "       VNZIP1 VNST  VehBCost  IsOnlineSale  WarrantyCost  \n",
      "10888   27542   NC    7500.0             0          1455  \n",
      "25169   38637   MS    9745.0             0           983  \n",
      "37986   89165   NV    5705.0             0           482  \n",
      "69948   85226   AZ    9655.0             0           825  \n",
      "69958   85226   AZ    9955.0             0           825  \n"
     ]
    },
    {
     "name": "stderr",
     "output_type": "stream",
     "text": [
      "C:\\Users\\Shreya Pamecha\\anaconda3\\envs\\new_env\\lib\\site-packages\\pandas\\core\\indexing.py:1817: SettingWithCopyWarning: \n",
      "A value is trying to be set on a copy of a slice from a DataFrame.\n",
      "Try using .loc[row_indexer,col_indexer] = value instead\n",
      "\n",
      "See the caveats in the documentation: https://pandas.pydata.org/pandas-docs/stable/user_guide/indexing.html#returning-a-view-versus-a-copy\n",
      "  self._setitem_single_column(loc, value, pi)\n"
     ]
    }
   ],
   "source": [
    "### Filling Nan values of TopThreeAmericanName\n",
    "\n",
    "df2 = db7[db7['TopThreeAmericanName'].isnull()]\n",
    "print(len(df2.index))\n",
    "#print(df2)\n",
    "\n",
    "df2.loc[df2['Nationality'] != 'AMERICAN', 'TopThreeAmericanName'] = 'OTHER'\n",
    "\n",
    "df2.loc[df2['Make'] == 'DODGE', 'TopThreeAmericanName'] = 'CHRYSLER'\n",
    "df2.loc[df2['Make'] == 'JEEP', 'TopThreeAmericanName'] = 'CHRYSLER'\n",
    "df2.loc[df2['Make'] == 'GMC', 'TopThreeAmericanName'] = 'GM'\n",
    "\n",
    "\n",
    "print(df2)\n"
   ]
  },
  {
   "cell_type": "code",
   "execution_count": 436,
   "id": "9ae197f5",
   "metadata": {},
   "outputs": [
    {
     "name": "stdout",
     "output_type": "stream",
     "text": [
      "Number of null values in TopThreeAmericanName earlier:  5\n",
      "Number of null values in TopThreeAmericanName now:  0\n"
     ]
    }
   ],
   "source": [
    "print('Number of null values in TopThreeAmericanName earlier: ', db7.TopThreeAmericanName.isna().sum())\n",
    "df3 = df2[['RefId','TopThreeAmericanName']]\n",
    "db8 = pd.merge(db7,df3,how='left',on=['RefId'])\n",
    "# print(db8)\n",
    "db8.TopThreeAmericanName_x.fillna(db8.TopThreeAmericanName_y, inplace=True)\n",
    "db8=db8.rename(columns = {'TopThreeAmericanName_x':'TopThreeAmericanName'})\n",
    "db8=db8.drop(['TopThreeAmericanName_y'],axis=1)\n",
    "\n",
    "print('Number of null values in TopThreeAmericanName now: ', db8.TopThreeAmericanName.isna().sum())"
   ]
  },
  {
   "cell_type": "code",
   "execution_count": 437,
   "id": "bb99fa93",
   "metadata": {},
   "outputs": [
    {
     "name": "stdout",
     "output_type": "stream",
     "text": [
      "The correlation between MMRCurrentAuctionAveragePrice and MMRAcquisitionAuctionAveragePrice:  0.9378170527093805\n",
      "The correlation between MMRCurrentAuctionCleanPrice and MMRAcquisitionAuctionCleanPrice:  0.9321137377075576\n",
      "The correlation between MMRCurrentRetailAveragePrice and MMRAcquisitionRetailAveragePrice:  0.913108204261288\n",
      "The correlation between MMRCurrentRetailCleanPrice and MMRAcquisitonRetailCleanPrice:  0.906810359545017\n"
     ]
    },
    {
     "data": {
      "text/html": [
       "<div>\n",
       "<style scoped>\n",
       "    .dataframe tbody tr th:only-of-type {\n",
       "        vertical-align: middle;\n",
       "    }\n",
       "\n",
       "    .dataframe tbody tr th {\n",
       "        vertical-align: top;\n",
       "    }\n",
       "\n",
       "    .dataframe thead th {\n",
       "        text-align: right;\n",
       "    }\n",
       "</style>\n",
       "<table border=\"1\" class=\"dataframe\">\n",
       "  <thead>\n",
       "    <tr style=\"text-align: right;\">\n",
       "      <th></th>\n",
       "      <th>RefId</th>\n",
       "      <th>IsBadBuy</th>\n",
       "      <th>VehYear</th>\n",
       "      <th>VehicleAge</th>\n",
       "      <th>WheelTypeID</th>\n",
       "      <th>VehOdo</th>\n",
       "      <th>MMRAcquisitionAuctionAveragePrice</th>\n",
       "      <th>MMRAcquisitionAuctionCleanPrice</th>\n",
       "      <th>MMRAcquisitionRetailAveragePrice</th>\n",
       "      <th>MMRAcquisitonRetailCleanPrice</th>\n",
       "      <th>MMRCurrentAuctionAveragePrice</th>\n",
       "      <th>MMRCurrentAuctionCleanPrice</th>\n",
       "      <th>MMRCurrentRetailAveragePrice</th>\n",
       "      <th>MMRCurrentRetailCleanPrice</th>\n",
       "      <th>BYRNO</th>\n",
       "      <th>VNZIP1</th>\n",
       "      <th>VehBCost</th>\n",
       "      <th>IsOnlineSale</th>\n",
       "      <th>WarrantyCost</th>\n",
       "    </tr>\n",
       "  </thead>\n",
       "  <tbody>\n",
       "    <tr>\n",
       "      <th>RefId</th>\n",
       "      <td>1.000000</td>\n",
       "      <td>0.023973</td>\n",
       "      <td>0.010580</td>\n",
       "      <td>-0.025404</td>\n",
       "      <td>0.012822</td>\n",
       "      <td>-0.026553</td>\n",
       "      <td>-0.011568</td>\n",
       "      <td>-0.015704</td>\n",
       "      <td>-0.032208</td>\n",
       "      <td>-0.034324</td>\n",
       "      <td>-0.008742</td>\n",
       "      <td>-0.013015</td>\n",
       "      <td>-0.021616</td>\n",
       "      <td>-0.024369</td>\n",
       "      <td>0.032896</td>\n",
       "      <td>0.131898</td>\n",
       "      <td>-0.011873</td>\n",
       "      <td>-0.048851</td>\n",
       "      <td>-0.023478</td>\n",
       "    </tr>\n",
       "    <tr>\n",
       "      <th>IsBadBuy</th>\n",
       "      <td>0.023973</td>\n",
       "      <td>1.000000</td>\n",
       "      <td>-0.158886</td>\n",
       "      <td>0.167164</td>\n",
       "      <td>-0.041371</td>\n",
       "      <td>0.082560</td>\n",
       "      <td>-0.109252</td>\n",
       "      <td>-0.102954</td>\n",
       "      <td>-0.087418</td>\n",
       "      <td>-0.083665</td>\n",
       "      <td>-0.109112</td>\n",
       "      <td>-0.104020</td>\n",
       "      <td>-0.103914</td>\n",
       "      <td>-0.100245</td>\n",
       "      <td>-0.061488</td>\n",
       "      <td>0.005796</td>\n",
       "      <td>-0.099911</td>\n",
       "      <td>-0.003697</td>\n",
       "      <td>0.052319</td>\n",
       "    </tr>\n",
       "    <tr>\n",
       "      <th>VehYear</th>\n",
       "      <td>0.010580</td>\n",
       "      <td>-0.158886</td>\n",
       "      <td>1.000000</td>\n",
       "      <td>-0.957957</td>\n",
       "      <td>0.260336</td>\n",
       "      <td>-0.283719</td>\n",
       "      <td>0.581146</td>\n",
       "      <td>0.532927</td>\n",
       "      <td>0.581191</td>\n",
       "      <td>0.539230</td>\n",
       "      <td>0.590820</td>\n",
       "      <td>0.548426</td>\n",
       "      <td>0.598490</td>\n",
       "      <td>0.558669</td>\n",
       "      <td>0.280791</td>\n",
       "      <td>0.068276</td>\n",
       "      <td>0.349965</td>\n",
       "      <td>0.057380</td>\n",
       "      <td>-0.268696</td>\n",
       "    </tr>\n",
       "    <tr>\n",
       "      <th>VehicleAge</th>\n",
       "      <td>-0.025404</td>\n",
       "      <td>0.167164</td>\n",
       "      <td>-0.957957</td>\n",
       "      <td>1.000000</td>\n",
       "      <td>-0.251101</td>\n",
       "      <td>0.319794</td>\n",
       "      <td>-0.565690</td>\n",
       "      <td>-0.518810</td>\n",
       "      <td>-0.460854</td>\n",
       "      <td>-0.426382</td>\n",
       "      <td>-0.575607</td>\n",
       "      <td>-0.532505</td>\n",
       "      <td>-0.504062</td>\n",
       "      <td>-0.469359</td>\n",
       "      <td>-0.268269</td>\n",
       "      <td>-0.074857</td>\n",
       "      <td>-0.312329</td>\n",
       "      <td>-0.024771</td>\n",
       "      <td>0.259310</td>\n",
       "    </tr>\n",
       "    <tr>\n",
       "      <th>WheelTypeID</th>\n",
       "      <td>0.012822</td>\n",
       "      <td>-0.041371</td>\n",
       "      <td>0.260336</td>\n",
       "      <td>-0.251101</td>\n",
       "      <td>1.000000</td>\n",
       "      <td>-0.212041</td>\n",
       "      <td>-0.095956</td>\n",
       "      <td>-0.129997</td>\n",
       "      <td>-0.072482</td>\n",
       "      <td>-0.101832</td>\n",
       "      <td>-0.089087</td>\n",
       "      <td>-0.121624</td>\n",
       "      <td>-0.074138</td>\n",
       "      <td>-0.102335</td>\n",
       "      <td>0.186134</td>\n",
       "      <td>0.009644</td>\n",
       "      <td>-0.162967</td>\n",
       "      <td>-0.005715</td>\n",
       "      <td>-0.134252</td>\n",
       "    </tr>\n",
       "    <tr>\n",
       "      <th>VehOdo</th>\n",
       "      <td>-0.026553</td>\n",
       "      <td>0.082560</td>\n",
       "      <td>-0.283719</td>\n",
       "      <td>0.319794</td>\n",
       "      <td>-0.212041</td>\n",
       "      <td>1.000000</td>\n",
       "      <td>-0.017022</td>\n",
       "      <td>0.024617</td>\n",
       "      <td>0.031306</td>\n",
       "      <td>0.063165</td>\n",
       "      <td>-0.028568</td>\n",
       "      <td>0.012107</td>\n",
       "      <td>0.015811</td>\n",
       "      <td>0.048005</td>\n",
       "      <td>-0.288456</td>\n",
       "      <td>-0.053041</td>\n",
       "      <td>-0.062008</td>\n",
       "      <td>0.029556</td>\n",
       "      <td>0.411718</td>\n",
       "    </tr>\n",
       "    <tr>\n",
       "      <th>MMRAcquisitionAuctionAveragePrice</th>\n",
       "      <td>-0.011568</td>\n",
       "      <td>-0.109252</td>\n",
       "      <td>0.581146</td>\n",
       "      <td>-0.565690</td>\n",
       "      <td>-0.095956</td>\n",
       "      <td>-0.017022</td>\n",
       "      <td>1.000000</td>\n",
       "      <td>0.990347</td>\n",
       "      <td>0.910391</td>\n",
       "      <td>0.910187</td>\n",
       "      <td>0.937817</td>\n",
       "      <td>0.932492</td>\n",
       "      <td>0.871755</td>\n",
       "      <td>0.871042</td>\n",
       "      <td>0.107734</td>\n",
       "      <td>0.045694</td>\n",
       "      <td>0.789840</td>\n",
       "      <td>0.038818</td>\n",
       "      <td>-0.050417</td>\n",
       "    </tr>\n",
       "    <tr>\n",
       "      <th>MMRAcquisitionAuctionCleanPrice</th>\n",
       "      <td>-0.015704</td>\n",
       "      <td>-0.102954</td>\n",
       "      <td>0.532927</td>\n",
       "      <td>-0.518810</td>\n",
       "      <td>-0.129997</td>\n",
       "      <td>0.024617</td>\n",
       "      <td>0.990347</td>\n",
       "      <td>1.000000</td>\n",
       "      <td>0.902718</td>\n",
       "      <td>0.918242</td>\n",
       "      <td>0.923610</td>\n",
       "      <td>0.932114</td>\n",
       "      <td>0.860716</td>\n",
       "      <td>0.871203</td>\n",
       "      <td>0.062502</td>\n",
       "      <td>0.040675</td>\n",
       "      <td>0.781516</td>\n",
       "      <td>0.038667</td>\n",
       "      <td>-0.020644</td>\n",
       "    </tr>\n",
       "    <tr>\n",
       "      <th>MMRAcquisitionRetailAveragePrice</th>\n",
       "      <td>-0.032208</td>\n",
       "      <td>-0.087418</td>\n",
       "      <td>0.581191</td>\n",
       "      <td>-0.460854</td>\n",
       "      <td>-0.072482</td>\n",
       "      <td>0.031306</td>\n",
       "      <td>0.910391</td>\n",
       "      <td>0.902718</td>\n",
       "      <td>1.000000</td>\n",
       "      <td>0.990201</td>\n",
       "      <td>0.851647</td>\n",
       "      <td>0.849407</td>\n",
       "      <td>0.913108</td>\n",
       "      <td>0.906054</td>\n",
       "      <td>0.107516</td>\n",
       "      <td>0.035489</td>\n",
       "      <td>0.746126</td>\n",
       "      <td>0.080627</td>\n",
       "      <td>-0.053444</td>\n",
       "    </tr>\n",
       "    <tr>\n",
       "      <th>MMRAcquisitonRetailCleanPrice</th>\n",
       "      <td>-0.034324</td>\n",
       "      <td>-0.083665</td>\n",
       "      <td>0.539230</td>\n",
       "      <td>-0.426382</td>\n",
       "      <td>-0.101832</td>\n",
       "      <td>0.063165</td>\n",
       "      <td>0.910187</td>\n",
       "      <td>0.918242</td>\n",
       "      <td>0.990201</td>\n",
       "      <td>1.000000</td>\n",
       "      <td>0.846914</td>\n",
       "      <td>0.855689</td>\n",
       "      <td>0.903188</td>\n",
       "      <td>0.906810</td>\n",
       "      <td>0.069676</td>\n",
       "      <td>0.031284</td>\n",
       "      <td>0.744966</td>\n",
       "      <td>0.077670</td>\n",
       "      <td>-0.026933</td>\n",
       "    </tr>\n",
       "    <tr>\n",
       "      <th>MMRCurrentAuctionAveragePrice</th>\n",
       "      <td>-0.008742</td>\n",
       "      <td>-0.109112</td>\n",
       "      <td>0.590820</td>\n",
       "      <td>-0.575607</td>\n",
       "      <td>-0.089087</td>\n",
       "      <td>-0.028568</td>\n",
       "      <td>0.937817</td>\n",
       "      <td>0.923610</td>\n",
       "      <td>0.851647</td>\n",
       "      <td>0.846914</td>\n",
       "      <td>1.000000</td>\n",
       "      <td>0.990329</td>\n",
       "      <td>0.915073</td>\n",
       "      <td>0.912231</td>\n",
       "      <td>0.111363</td>\n",
       "      <td>0.048965</td>\n",
       "      <td>0.778738</td>\n",
       "      <td>0.039876</td>\n",
       "      <td>-0.056798</td>\n",
       "    </tr>\n",
       "    <tr>\n",
       "      <th>MMRCurrentAuctionCleanPrice</th>\n",
       "      <td>-0.013015</td>\n",
       "      <td>-0.104020</td>\n",
       "      <td>0.548426</td>\n",
       "      <td>-0.532505</td>\n",
       "      <td>-0.121624</td>\n",
       "      <td>0.012107</td>\n",
       "      <td>0.932492</td>\n",
       "      <td>0.932114</td>\n",
       "      <td>0.849407</td>\n",
       "      <td>0.855689</td>\n",
       "      <td>0.990329</td>\n",
       "      <td>1.000000</td>\n",
       "      <td>0.908669</td>\n",
       "      <td>0.921536</td>\n",
       "      <td>0.068801</td>\n",
       "      <td>0.043684</td>\n",
       "      <td>0.775100</td>\n",
       "      <td>0.040240</td>\n",
       "      <td>-0.028131</td>\n",
       "    </tr>\n",
       "    <tr>\n",
       "      <th>MMRCurrentRetailAveragePrice</th>\n",
       "      <td>-0.021616</td>\n",
       "      <td>-0.103914</td>\n",
       "      <td>0.598490</td>\n",
       "      <td>-0.504062</td>\n",
       "      <td>-0.074138</td>\n",
       "      <td>0.015811</td>\n",
       "      <td>0.871755</td>\n",
       "      <td>0.860716</td>\n",
       "      <td>0.913108</td>\n",
       "      <td>0.903188</td>\n",
       "      <td>0.915073</td>\n",
       "      <td>0.908669</td>\n",
       "      <td>1.000000</td>\n",
       "      <td>0.989760</td>\n",
       "      <td>0.111190</td>\n",
       "      <td>0.039190</td>\n",
       "      <td>0.756816</td>\n",
       "      <td>0.079535</td>\n",
       "      <td>-0.058025</td>\n",
       "    </tr>\n",
       "    <tr>\n",
       "      <th>MMRCurrentRetailCleanPrice</th>\n",
       "      <td>-0.024369</td>\n",
       "      <td>-0.100245</td>\n",
       "      <td>0.558669</td>\n",
       "      <td>-0.469359</td>\n",
       "      <td>-0.102335</td>\n",
       "      <td>0.048005</td>\n",
       "      <td>0.871042</td>\n",
       "      <td>0.871203</td>\n",
       "      <td>0.906054</td>\n",
       "      <td>0.906810</td>\n",
       "      <td>0.912231</td>\n",
       "      <td>0.921536</td>\n",
       "      <td>0.989760</td>\n",
       "      <td>1.000000</td>\n",
       "      <td>0.074903</td>\n",
       "      <td>0.034688</td>\n",
       "      <td>0.756662</td>\n",
       "      <td>0.076587</td>\n",
       "      <td>-0.031683</td>\n",
       "    </tr>\n",
       "    <tr>\n",
       "      <th>BYRNO</th>\n",
       "      <td>0.032896</td>\n",
       "      <td>-0.061488</td>\n",
       "      <td>0.280791</td>\n",
       "      <td>-0.268269</td>\n",
       "      <td>0.186134</td>\n",
       "      <td>-0.288456</td>\n",
       "      <td>0.107734</td>\n",
       "      <td>0.062502</td>\n",
       "      <td>0.107516</td>\n",
       "      <td>0.069676</td>\n",
       "      <td>0.111363</td>\n",
       "      <td>0.068801</td>\n",
       "      <td>0.111190</td>\n",
       "      <td>0.074903</td>\n",
       "      <td>1.000000</td>\n",
       "      <td>0.040260</td>\n",
       "      <td>0.046215</td>\n",
       "      <td>-0.142444</td>\n",
       "      <td>-0.086201</td>\n",
       "    </tr>\n",
       "    <tr>\n",
       "      <th>VNZIP1</th>\n",
       "      <td>0.131898</td>\n",
       "      <td>0.005796</td>\n",
       "      <td>0.068276</td>\n",
       "      <td>-0.074857</td>\n",
       "      <td>0.009644</td>\n",
       "      <td>-0.053041</td>\n",
       "      <td>0.045694</td>\n",
       "      <td>0.040675</td>\n",
       "      <td>0.035489</td>\n",
       "      <td>0.031284</td>\n",
       "      <td>0.048965</td>\n",
       "      <td>0.043684</td>\n",
       "      <td>0.039190</td>\n",
       "      <td>0.034688</td>\n",
       "      <td>0.040260</td>\n",
       "      <td>1.000000</td>\n",
       "      <td>0.017065</td>\n",
       "      <td>0.024889</td>\n",
       "      <td>-0.036173</td>\n",
       "    </tr>\n",
       "    <tr>\n",
       "      <th>VehBCost</th>\n",
       "      <td>-0.011873</td>\n",
       "      <td>-0.099911</td>\n",
       "      <td>0.349965</td>\n",
       "      <td>-0.312329</td>\n",
       "      <td>-0.162967</td>\n",
       "      <td>-0.062008</td>\n",
       "      <td>0.789840</td>\n",
       "      <td>0.781516</td>\n",
       "      <td>0.746126</td>\n",
       "      <td>0.744966</td>\n",
       "      <td>0.778738</td>\n",
       "      <td>0.775100</td>\n",
       "      <td>0.756816</td>\n",
       "      <td>0.756662</td>\n",
       "      <td>0.046215</td>\n",
       "      <td>0.017065</td>\n",
       "      <td>1.000000</td>\n",
       "      <td>0.034120</td>\n",
       "      <td>-0.033210</td>\n",
       "    </tr>\n",
       "    <tr>\n",
       "      <th>IsOnlineSale</th>\n",
       "      <td>-0.048851</td>\n",
       "      <td>-0.003697</td>\n",
       "      <td>0.057380</td>\n",
       "      <td>-0.024771</td>\n",
       "      <td>-0.005715</td>\n",
       "      <td>0.029556</td>\n",
       "      <td>0.038818</td>\n",
       "      <td>0.038667</td>\n",
       "      <td>0.080627</td>\n",
       "      <td>0.077670</td>\n",
       "      <td>0.039876</td>\n",
       "      <td>0.040240</td>\n",
       "      <td>0.079535</td>\n",
       "      <td>0.076587</td>\n",
       "      <td>-0.142444</td>\n",
       "      <td>0.024889</td>\n",
       "      <td>0.034120</td>\n",
       "      <td>1.000000</td>\n",
       "      <td>0.003837</td>\n",
       "    </tr>\n",
       "    <tr>\n",
       "      <th>WarrantyCost</th>\n",
       "      <td>-0.023478</td>\n",
       "      <td>0.052319</td>\n",
       "      <td>-0.268696</td>\n",
       "      <td>0.259310</td>\n",
       "      <td>-0.134252</td>\n",
       "      <td>0.411718</td>\n",
       "      <td>-0.050417</td>\n",
       "      <td>-0.020644</td>\n",
       "      <td>-0.053444</td>\n",
       "      <td>-0.026933</td>\n",
       "      <td>-0.056798</td>\n",
       "      <td>-0.028131</td>\n",
       "      <td>-0.058025</td>\n",
       "      <td>-0.031683</td>\n",
       "      <td>-0.086201</td>\n",
       "      <td>-0.036173</td>\n",
       "      <td>-0.033210</td>\n",
       "      <td>0.003837</td>\n",
       "      <td>1.000000</td>\n",
       "    </tr>\n",
       "  </tbody>\n",
       "</table>\n",
       "</div>"
      ],
      "text/plain": [
       "                                      RefId  IsBadBuy   VehYear  VehicleAge  \\\n",
       "RefId                              1.000000  0.023973  0.010580   -0.025404   \n",
       "IsBadBuy                           0.023973  1.000000 -0.158886    0.167164   \n",
       "VehYear                            0.010580 -0.158886  1.000000   -0.957957   \n",
       "VehicleAge                        -0.025404  0.167164 -0.957957    1.000000   \n",
       "WheelTypeID                        0.012822 -0.041371  0.260336   -0.251101   \n",
       "VehOdo                            -0.026553  0.082560 -0.283719    0.319794   \n",
       "MMRAcquisitionAuctionAveragePrice -0.011568 -0.109252  0.581146   -0.565690   \n",
       "MMRAcquisitionAuctionCleanPrice   -0.015704 -0.102954  0.532927   -0.518810   \n",
       "MMRAcquisitionRetailAveragePrice  -0.032208 -0.087418  0.581191   -0.460854   \n",
       "MMRAcquisitonRetailCleanPrice     -0.034324 -0.083665  0.539230   -0.426382   \n",
       "MMRCurrentAuctionAveragePrice     -0.008742 -0.109112  0.590820   -0.575607   \n",
       "MMRCurrentAuctionCleanPrice       -0.013015 -0.104020  0.548426   -0.532505   \n",
       "MMRCurrentRetailAveragePrice      -0.021616 -0.103914  0.598490   -0.504062   \n",
       "MMRCurrentRetailCleanPrice        -0.024369 -0.100245  0.558669   -0.469359   \n",
       "BYRNO                              0.032896 -0.061488  0.280791   -0.268269   \n",
       "VNZIP1                             0.131898  0.005796  0.068276   -0.074857   \n",
       "VehBCost                          -0.011873 -0.099911  0.349965   -0.312329   \n",
       "IsOnlineSale                      -0.048851 -0.003697  0.057380   -0.024771   \n",
       "WarrantyCost                      -0.023478  0.052319 -0.268696    0.259310   \n",
       "\n",
       "                                   WheelTypeID    VehOdo  \\\n",
       "RefId                                 0.012822 -0.026553   \n",
       "IsBadBuy                             -0.041371  0.082560   \n",
       "VehYear                               0.260336 -0.283719   \n",
       "VehicleAge                           -0.251101  0.319794   \n",
       "WheelTypeID                           1.000000 -0.212041   \n",
       "VehOdo                               -0.212041  1.000000   \n",
       "MMRAcquisitionAuctionAveragePrice    -0.095956 -0.017022   \n",
       "MMRAcquisitionAuctionCleanPrice      -0.129997  0.024617   \n",
       "MMRAcquisitionRetailAveragePrice     -0.072482  0.031306   \n",
       "MMRAcquisitonRetailCleanPrice        -0.101832  0.063165   \n",
       "MMRCurrentAuctionAveragePrice        -0.089087 -0.028568   \n",
       "MMRCurrentAuctionCleanPrice          -0.121624  0.012107   \n",
       "MMRCurrentRetailAveragePrice         -0.074138  0.015811   \n",
       "MMRCurrentRetailCleanPrice           -0.102335  0.048005   \n",
       "BYRNO                                 0.186134 -0.288456   \n",
       "VNZIP1                                0.009644 -0.053041   \n",
       "VehBCost                             -0.162967 -0.062008   \n",
       "IsOnlineSale                         -0.005715  0.029556   \n",
       "WarrantyCost                         -0.134252  0.411718   \n",
       "\n",
       "                                   MMRAcquisitionAuctionAveragePrice  \\\n",
       "RefId                                                      -0.011568   \n",
       "IsBadBuy                                                   -0.109252   \n",
       "VehYear                                                     0.581146   \n",
       "VehicleAge                                                 -0.565690   \n",
       "WheelTypeID                                                -0.095956   \n",
       "VehOdo                                                     -0.017022   \n",
       "MMRAcquisitionAuctionAveragePrice                           1.000000   \n",
       "MMRAcquisitionAuctionCleanPrice                             0.990347   \n",
       "MMRAcquisitionRetailAveragePrice                            0.910391   \n",
       "MMRAcquisitonRetailCleanPrice                               0.910187   \n",
       "MMRCurrentAuctionAveragePrice                               0.937817   \n",
       "MMRCurrentAuctionCleanPrice                                 0.932492   \n",
       "MMRCurrentRetailAveragePrice                                0.871755   \n",
       "MMRCurrentRetailCleanPrice                                  0.871042   \n",
       "BYRNO                                                       0.107734   \n",
       "VNZIP1                                                      0.045694   \n",
       "VehBCost                                                    0.789840   \n",
       "IsOnlineSale                                                0.038818   \n",
       "WarrantyCost                                               -0.050417   \n",
       "\n",
       "                                   MMRAcquisitionAuctionCleanPrice  \\\n",
       "RefId                                                    -0.015704   \n",
       "IsBadBuy                                                 -0.102954   \n",
       "VehYear                                                   0.532927   \n",
       "VehicleAge                                               -0.518810   \n",
       "WheelTypeID                                              -0.129997   \n",
       "VehOdo                                                    0.024617   \n",
       "MMRAcquisitionAuctionAveragePrice                         0.990347   \n",
       "MMRAcquisitionAuctionCleanPrice                           1.000000   \n",
       "MMRAcquisitionRetailAveragePrice                          0.902718   \n",
       "MMRAcquisitonRetailCleanPrice                             0.918242   \n",
       "MMRCurrentAuctionAveragePrice                             0.923610   \n",
       "MMRCurrentAuctionCleanPrice                               0.932114   \n",
       "MMRCurrentRetailAveragePrice                              0.860716   \n",
       "MMRCurrentRetailCleanPrice                                0.871203   \n",
       "BYRNO                                                     0.062502   \n",
       "VNZIP1                                                    0.040675   \n",
       "VehBCost                                                  0.781516   \n",
       "IsOnlineSale                                              0.038667   \n",
       "WarrantyCost                                             -0.020644   \n",
       "\n",
       "                                   MMRAcquisitionRetailAveragePrice  \\\n",
       "RefId                                                     -0.032208   \n",
       "IsBadBuy                                                  -0.087418   \n",
       "VehYear                                                    0.581191   \n",
       "VehicleAge                                                -0.460854   \n",
       "WheelTypeID                                               -0.072482   \n",
       "VehOdo                                                     0.031306   \n",
       "MMRAcquisitionAuctionAveragePrice                          0.910391   \n",
       "MMRAcquisitionAuctionCleanPrice                            0.902718   \n",
       "MMRAcquisitionRetailAveragePrice                           1.000000   \n",
       "MMRAcquisitonRetailCleanPrice                              0.990201   \n",
       "MMRCurrentAuctionAveragePrice                              0.851647   \n",
       "MMRCurrentAuctionCleanPrice                                0.849407   \n",
       "MMRCurrentRetailAveragePrice                               0.913108   \n",
       "MMRCurrentRetailCleanPrice                                 0.906054   \n",
       "BYRNO                                                      0.107516   \n",
       "VNZIP1                                                     0.035489   \n",
       "VehBCost                                                   0.746126   \n",
       "IsOnlineSale                                               0.080627   \n",
       "WarrantyCost                                              -0.053444   \n",
       "\n",
       "                                   MMRAcquisitonRetailCleanPrice  \\\n",
       "RefId                                                  -0.034324   \n",
       "IsBadBuy                                               -0.083665   \n",
       "VehYear                                                 0.539230   \n",
       "VehicleAge                                             -0.426382   \n",
       "WheelTypeID                                            -0.101832   \n",
       "VehOdo                                                  0.063165   \n",
       "MMRAcquisitionAuctionAveragePrice                       0.910187   \n",
       "MMRAcquisitionAuctionCleanPrice                         0.918242   \n",
       "MMRAcquisitionRetailAveragePrice                        0.990201   \n",
       "MMRAcquisitonRetailCleanPrice                           1.000000   \n",
       "MMRCurrentAuctionAveragePrice                           0.846914   \n",
       "MMRCurrentAuctionCleanPrice                             0.855689   \n",
       "MMRCurrentRetailAveragePrice                            0.903188   \n",
       "MMRCurrentRetailCleanPrice                              0.906810   \n",
       "BYRNO                                                   0.069676   \n",
       "VNZIP1                                                  0.031284   \n",
       "VehBCost                                                0.744966   \n",
       "IsOnlineSale                                            0.077670   \n",
       "WarrantyCost                                           -0.026933   \n",
       "\n",
       "                                   MMRCurrentAuctionAveragePrice  \\\n",
       "RefId                                                  -0.008742   \n",
       "IsBadBuy                                               -0.109112   \n",
       "VehYear                                                 0.590820   \n",
       "VehicleAge                                             -0.575607   \n",
       "WheelTypeID                                            -0.089087   \n",
       "VehOdo                                                 -0.028568   \n",
       "MMRAcquisitionAuctionAveragePrice                       0.937817   \n",
       "MMRAcquisitionAuctionCleanPrice                         0.923610   \n",
       "MMRAcquisitionRetailAveragePrice                        0.851647   \n",
       "MMRAcquisitonRetailCleanPrice                           0.846914   \n",
       "MMRCurrentAuctionAveragePrice                           1.000000   \n",
       "MMRCurrentAuctionCleanPrice                             0.990329   \n",
       "MMRCurrentRetailAveragePrice                            0.915073   \n",
       "MMRCurrentRetailCleanPrice                              0.912231   \n",
       "BYRNO                                                   0.111363   \n",
       "VNZIP1                                                  0.048965   \n",
       "VehBCost                                                0.778738   \n",
       "IsOnlineSale                                            0.039876   \n",
       "WarrantyCost                                           -0.056798   \n",
       "\n",
       "                                   MMRCurrentAuctionCleanPrice  \\\n",
       "RefId                                                -0.013015   \n",
       "IsBadBuy                                             -0.104020   \n",
       "VehYear                                               0.548426   \n",
       "VehicleAge                                           -0.532505   \n",
       "WheelTypeID                                          -0.121624   \n",
       "VehOdo                                                0.012107   \n",
       "MMRAcquisitionAuctionAveragePrice                     0.932492   \n",
       "MMRAcquisitionAuctionCleanPrice                       0.932114   \n",
       "MMRAcquisitionRetailAveragePrice                      0.849407   \n",
       "MMRAcquisitonRetailCleanPrice                         0.855689   \n",
       "MMRCurrentAuctionAveragePrice                         0.990329   \n",
       "MMRCurrentAuctionCleanPrice                           1.000000   \n",
       "MMRCurrentRetailAveragePrice                          0.908669   \n",
       "MMRCurrentRetailCleanPrice                            0.921536   \n",
       "BYRNO                                                 0.068801   \n",
       "VNZIP1                                                0.043684   \n",
       "VehBCost                                              0.775100   \n",
       "IsOnlineSale                                          0.040240   \n",
       "WarrantyCost                                         -0.028131   \n",
       "\n",
       "                                   MMRCurrentRetailAveragePrice  \\\n",
       "RefId                                                 -0.021616   \n",
       "IsBadBuy                                              -0.103914   \n",
       "VehYear                                                0.598490   \n",
       "VehicleAge                                            -0.504062   \n",
       "WheelTypeID                                           -0.074138   \n",
       "VehOdo                                                 0.015811   \n",
       "MMRAcquisitionAuctionAveragePrice                      0.871755   \n",
       "MMRAcquisitionAuctionCleanPrice                        0.860716   \n",
       "MMRAcquisitionRetailAveragePrice                       0.913108   \n",
       "MMRAcquisitonRetailCleanPrice                          0.903188   \n",
       "MMRCurrentAuctionAveragePrice                          0.915073   \n",
       "MMRCurrentAuctionCleanPrice                            0.908669   \n",
       "MMRCurrentRetailAveragePrice                           1.000000   \n",
       "MMRCurrentRetailCleanPrice                             0.989760   \n",
       "BYRNO                                                  0.111190   \n",
       "VNZIP1                                                 0.039190   \n",
       "VehBCost                                               0.756816   \n",
       "IsOnlineSale                                           0.079535   \n",
       "WarrantyCost                                          -0.058025   \n",
       "\n",
       "                                   MMRCurrentRetailCleanPrice     BYRNO  \\\n",
       "RefId                                               -0.024369  0.032896   \n",
       "IsBadBuy                                            -0.100245 -0.061488   \n",
       "VehYear                                              0.558669  0.280791   \n",
       "VehicleAge                                          -0.469359 -0.268269   \n",
       "WheelTypeID                                         -0.102335  0.186134   \n",
       "VehOdo                                               0.048005 -0.288456   \n",
       "MMRAcquisitionAuctionAveragePrice                    0.871042  0.107734   \n",
       "MMRAcquisitionAuctionCleanPrice                      0.871203  0.062502   \n",
       "MMRAcquisitionRetailAveragePrice                     0.906054  0.107516   \n",
       "MMRAcquisitonRetailCleanPrice                        0.906810  0.069676   \n",
       "MMRCurrentAuctionAveragePrice                        0.912231  0.111363   \n",
       "MMRCurrentAuctionCleanPrice                          0.921536  0.068801   \n",
       "MMRCurrentRetailAveragePrice                         0.989760  0.111190   \n",
       "MMRCurrentRetailCleanPrice                           1.000000  0.074903   \n",
       "BYRNO                                                0.074903  1.000000   \n",
       "VNZIP1                                               0.034688  0.040260   \n",
       "VehBCost                                             0.756662  0.046215   \n",
       "IsOnlineSale                                         0.076587 -0.142444   \n",
       "WarrantyCost                                        -0.031683 -0.086201   \n",
       "\n",
       "                                     VNZIP1  VehBCost  IsOnlineSale  \\\n",
       "RefId                              0.131898 -0.011873     -0.048851   \n",
       "IsBadBuy                           0.005796 -0.099911     -0.003697   \n",
       "VehYear                            0.068276  0.349965      0.057380   \n",
       "VehicleAge                        -0.074857 -0.312329     -0.024771   \n",
       "WheelTypeID                        0.009644 -0.162967     -0.005715   \n",
       "VehOdo                            -0.053041 -0.062008      0.029556   \n",
       "MMRAcquisitionAuctionAveragePrice  0.045694  0.789840      0.038818   \n",
       "MMRAcquisitionAuctionCleanPrice    0.040675  0.781516      0.038667   \n",
       "MMRAcquisitionRetailAveragePrice   0.035489  0.746126      0.080627   \n",
       "MMRAcquisitonRetailCleanPrice      0.031284  0.744966      0.077670   \n",
       "MMRCurrentAuctionAveragePrice      0.048965  0.778738      0.039876   \n",
       "MMRCurrentAuctionCleanPrice        0.043684  0.775100      0.040240   \n",
       "MMRCurrentRetailAveragePrice       0.039190  0.756816      0.079535   \n",
       "MMRCurrentRetailCleanPrice         0.034688  0.756662      0.076587   \n",
       "BYRNO                              0.040260  0.046215     -0.142444   \n",
       "VNZIP1                             1.000000  0.017065      0.024889   \n",
       "VehBCost                           0.017065  1.000000      0.034120   \n",
       "IsOnlineSale                       0.024889  0.034120      1.000000   \n",
       "WarrantyCost                      -0.036173 -0.033210      0.003837   \n",
       "\n",
       "                                   WarrantyCost  \n",
       "RefId                                 -0.023478  \n",
       "IsBadBuy                               0.052319  \n",
       "VehYear                               -0.268696  \n",
       "VehicleAge                             0.259310  \n",
       "WheelTypeID                           -0.134252  \n",
       "VehOdo                                 0.411718  \n",
       "MMRAcquisitionAuctionAveragePrice     -0.050417  \n",
       "MMRAcquisitionAuctionCleanPrice       -0.020644  \n",
       "MMRAcquisitionRetailAveragePrice      -0.053444  \n",
       "MMRAcquisitonRetailCleanPrice         -0.026933  \n",
       "MMRCurrentAuctionAveragePrice         -0.056798  \n",
       "MMRCurrentAuctionCleanPrice           -0.028131  \n",
       "MMRCurrentRetailAveragePrice          -0.058025  \n",
       "MMRCurrentRetailCleanPrice            -0.031683  \n",
       "BYRNO                                 -0.086201  \n",
       "VNZIP1                                -0.036173  \n",
       "VehBCost                              -0.033210  \n",
       "IsOnlineSale                           0.003837  \n",
       "WarrantyCost                           1.000000  "
      ]
     },
     "execution_count": 437,
     "metadata": {},
     "output_type": "execute_result"
    }
   ],
   "source": [
    "### Filling Nan values in MMRCurrent & MMR Acquisition\n",
    "\n",
    "## Correlation between MMRCurrentAuctionAveragePrice & MMRAcquisitionAuctionAveragePrice\n",
    "print('The correlation between MMRCurrentAuctionAveragePrice and MMRAcquisitionAuctionAveragePrice: ', db8['MMRCurrentAuctionAveragePrice'].corr(db8['MMRAcquisitionAuctionAveragePrice']))\n",
    "print('The correlation between MMRCurrentAuctionCleanPrice and MMRAcquisitionAuctionCleanPrice: ', db8['MMRCurrentAuctionCleanPrice'].corr(db8['MMRAcquisitionAuctionCleanPrice']))\n",
    "print('The correlation between MMRCurrentRetailAveragePrice and MMRAcquisitionRetailAveragePrice: ', db8['MMRCurrentRetailAveragePrice'].corr(db8['MMRAcquisitionRetailAveragePrice']))\n",
    "print('The correlation between MMRCurrentRetailCleanPrice and MMRAcquisitonRetailCleanPrice: ', db8['MMRCurrentRetailCleanPrice'].corr(db8['MMRAcquisitonRetailCleanPrice']))\n",
    "\n",
    "db8.corr(method ='pearson')\n"
   ]
  },
  {
   "cell_type": "code",
   "execution_count": 438,
   "id": "613c2eb7",
   "metadata": {},
   "outputs": [
    {
     "name": "stdout",
     "output_type": "stream",
     "text": [
      "18\n"
     ]
    }
   ],
   "source": [
    "# There are 18 Null values in all MMRAcuisition features. Let's fill those first.\n",
    "\n",
    "df2=db8[db8['MMRCurrentAuctionAveragePrice'].isnull() & db8['MMRCurrentAuctionCleanPrice'].isnull() & db8['MMRCurrentRetailAveragePrice'].isnull() & db8['MMRCurrentRetailCleanPrice'].isnull() & db8['MMRAcquisitionAuctionAveragePrice'].isnull() & db8['MMRAcquisitionAuctionCleanPrice'].isnull() & db8['MMRAcquisitionRetailAveragePrice'].isnull() & db8['MMRAcquisitonRetailCleanPrice'].isnull()]\n",
    "print(len(df2.index))\n",
    "\n",
    "df3 = db8[~db8.index.isin(df2.index)]\n",
    "#print(df3)\n",
    "df4_a = df3[['VehBCost','WarrantyCost','VehicleAge','VehYear','IsBadBuy','WheelTypeID','MMRAcquisitionAuctionAveragePrice']]\n",
    "# df4_b = df3[['VehBCost','WarrantyCost','VehicleAge','VehYear','IsBadBuy','WheelTypeID','MMRAcquisitionAuctionCleanPrice']]\n",
    "# df4_c = df3[['VehBCost','WarrantyCost','VehicleAge','VehYear','IsBadBuy','WheelTypeID','MMRAcquisitionRetailAveragePrice']]\n",
    "# df4_d = df3[['VehBCost','WarrantyCost','VehicleAge','VehYear','IsBadBuy','WheelTypeID','MMRAcquisitonRetailCleanPrice']]"
   ]
  },
  {
   "cell_type": "code",
   "execution_count": 439,
   "id": "fce568d3",
   "metadata": {},
   "outputs": [
    {
     "name": "stdout",
     "output_type": "stream",
     "text": [
      "MSE:  819.6899866413166\n",
      "[[ 9.14555454e-01  2.66601983e-01 -5.75745888e+02  1.01593042e+02\n",
      "  -3.96959024e+02]]\n"
     ]
    }
   ],
   "source": [
    "x_a = df4_a[['VehBCost','WarrantyCost','VehicleAge','IsBadBuy','WheelTypeID']]\n",
    "y_a = df4_a[['MMRAcquisitionAuctionAveragePrice']]\n",
    "\n",
    "x_train, x_test, y_train, y_test = train_test_split(x_a, y_a, test_size = 0.3)\n",
    "\n",
    "model_a = LinearRegression()\n",
    "model_a.fit(x_train,y_train)\n",
    "# print(model_a.coef_)\n",
    "prediction_a = model_a.predict(x_test)\n",
    "print('MSE: ', metrics.mean_absolute_error(y_test, prediction_a))\n",
    "print(model_a.coef_)"
   ]
  },
  {
   "cell_type": "code",
   "execution_count": 440,
   "id": "b0465203",
   "metadata": {},
   "outputs": [],
   "source": [
    "# model_a2 = svm.SVR()\n",
    "# model_a2.fit(x_train,y_train)\n",
    "# prediction_a2 = model_a2.predict(x_test)\n",
    "# print('MSE: ', metrics.mean_absolute_error(y_test, prediction_a2))\n",
    "\n",
    "# scaler = MinMaxScaler()\n",
    "# scaled_train = scaler.fit_transform(x_train)\n",
    "# scaled_test = scaler.transform(x_test)\n",
    "\n",
    "# print(len(scaled_train))\n",
    "# print(len(y_train))\n",
    "\n",
    "# model_x = LinearRegression()\n",
    "# model_x.fit(scaled_train,y_train)\n",
    "\n",
    "# prediction_a = model_x.predict(scaled_test)\n",
    "# print(metrics.mean_absolute_error(y_test, prediction_a))"
   ]
  },
  {
   "cell_type": "code",
   "execution_count": 441,
   "id": "2a83323e",
   "metadata": {},
   "outputs": [
    {
     "name": "stdout",
     "output_type": "stream",
     "text": [
      "Number of null values in MMRAcquisitionAuctionAveragePrice earlier:  18\n",
      "Number of null values in MMRAcquisitionAuctionAveragePrice now:  0\n"
     ]
    },
    {
     "name": "stderr",
     "output_type": "stream",
     "text": [
      "<ipython-input-441-c041bbef513d>:12: SettingWithCopyWarning: \n",
      "A value is trying to be set on a copy of a slice from a DataFrame.\n",
      "Try using .loc[row_indexer,col_indexer] = value instead\n",
      "\n",
      "See the caveats in the documentation: https://pandas.pydata.org/pandas-docs/stable/user_guide/indexing.html#returning-a-view-versus-a-copy\n",
      "  x_a2['MMRAcquisitionAuctionAveragePrice'] = prediction_a2\n"
     ]
    }
   ],
   "source": [
    "## Filling Nan values of all MMRAcuisition features\n",
    "\n",
    "model_a2 = LinearRegression()\n",
    "model_a2.fit(x_a,y_a)\n",
    "\n",
    "x_a2 = df2[['VehBCost','WarrantyCost','VehicleAge','IsBadBuy','WheelTypeID']]\n",
    "y_a2 = df2[['MMRAcquisitionAuctionAveragePrice']]\n",
    "\n",
    "prediction_a2 = model_a2.predict(x_a2)\n",
    "# print(prediction_a2)\n",
    "\n",
    "x_a2['MMRAcquisitionAuctionAveragePrice'] = prediction_a2\n",
    "x_a2 = x_a2[['MMRAcquisitionAuctionAveragePrice']]\n",
    "\n",
    "# print(x_a2)\n",
    "\n",
    "print('Number of null values in MMRAcquisitionAuctionAveragePrice earlier: ', db8.MMRAcquisitionAuctionAveragePrice.isna().sum())\n",
    "db9 = pd.merge(db8, x_a2, how='left',left_index=True,right_index=True)\n",
    "# print(db9)\n",
    "\n",
    "db9.MMRAcquisitionAuctionAveragePrice_x.fillna(db9.MMRAcquisitionAuctionAveragePrice_y, inplace=True)\n",
    "db9=db9.rename(columns = {'MMRAcquisitionAuctionAveragePrice_x':'MMRAcquisitionAuctionAveragePrice'})\n",
    "db9=db9.drop(['MMRAcquisitionAuctionAveragePrice_y'],axis=1)\n",
    "\n",
    "print('Number of null values in MMRAcquisitionAuctionAveragePrice now: ', db9.MMRAcquisitionAuctionAveragePrice.isna().sum())"
   ]
  },
  {
   "cell_type": "code",
   "execution_count": 442,
   "id": "6b133030",
   "metadata": {},
   "outputs": [
    {
     "name": "stdout",
     "output_type": "stream",
     "text": [
      "MSE:  258.85086634567915\n"
     ]
    }
   ],
   "source": [
    "### Similarily filling MMRAcquisitionAuctionCleanPrice, MMRAcquisitionRetailAveragePrice & MMRAcquisitonRetailCleanPrice\n",
    "\n",
    "df2=db9[db9['MMRAcquisitionAuctionCleanPrice'].isnull()]\n",
    "# print(len(df2.index))\n",
    "\n",
    "df3 = db9[~db9.index.isin(df2.index)]\n",
    "# print(len(df3.index))\n",
    "\n",
    "df4_b = df3[['VehBCost','WarrantyCost','VehicleAge','VehYear','IsBadBuy','WheelTypeID','MMRAcquisitionAuctionAveragePrice','MMRAcquisitionAuctionCleanPrice']]\n",
    "\n",
    "x_b = df4_b[['VehBCost','WarrantyCost','VehicleAge','IsBadBuy','WheelTypeID','MMRAcquisitionAuctionAveragePrice']]\n",
    "y_b = df4_b[['MMRAcquisitionAuctionCleanPrice']]\n",
    "\n",
    "x_train, x_test, y_train, y_test = train_test_split(x_b, y_b, test_size = 0.3)\n",
    "\n",
    "model_b = LinearRegression()\n",
    "model_b.fit(x_train,y_train)\n",
    "# print(model_a.coef_)\n",
    "prediction_b = model_b.predict(x_test)\n",
    "print('MSE: ', metrics.mean_absolute_error(y_test, prediction_b))\n",
    "# print(model_a.coef_)\n"
   ]
  },
  {
   "cell_type": "code",
   "execution_count": 443,
   "id": "91dda0af",
   "metadata": {},
   "outputs": [
    {
     "name": "stdout",
     "output_type": "stream",
     "text": [
      "Number of null values in MMRAcquisitionAuctionCleanPrice earlier:  18\n",
      "Number of null values in MMRAcquisitionAuctionCleanPrice now:  0\n"
     ]
    },
    {
     "name": "stderr",
     "output_type": "stream",
     "text": [
      "<ipython-input-443-5c1d5eac73fe>:12: SettingWithCopyWarning: \n",
      "A value is trying to be set on a copy of a slice from a DataFrame.\n",
      "Try using .loc[row_indexer,col_indexer] = value instead\n",
      "\n",
      "See the caveats in the documentation: https://pandas.pydata.org/pandas-docs/stable/user_guide/indexing.html#returning-a-view-versus-a-copy\n",
      "  x_b2['MMRAcquisitionAuctionCleanPrice'] = prediction_b2\n"
     ]
    }
   ],
   "source": [
    "## Filling Nan values of MMRAcquisitionAuctionCleanPrice feature\n",
    "\n",
    "model_b2 = LinearRegression()\n",
    "model_b2.fit(x_b,y_b)\n",
    "\n",
    "x_b2 = df2[['VehBCost','WarrantyCost','VehicleAge','IsBadBuy','WheelTypeID','MMRAcquisitionAuctionAveragePrice']]\n",
    "y_b2 = df2[['MMRAcquisitionAuctionCleanPrice']]\n",
    "\n",
    "prediction_b2 = model_b2.predict(x_b2)\n",
    "# print(prediction_a2)\n",
    "\n",
    "x_b2['MMRAcquisitionAuctionCleanPrice'] = prediction_b2\n",
    "x_b2 = x_b2[['MMRAcquisitionAuctionCleanPrice']]\n",
    "# print(x_a2)\n",
    "\n",
    "print('Number of null values in MMRAcquisitionAuctionCleanPrice earlier: ', db1.MMRAcquisitionAuctionCleanPrice.isna().sum())\n",
    "db10 = pd.merge(db9, x_b2, how='left',left_index=True,right_index=True)\n",
    "# print(db9)\n",
    "\n",
    "db10.MMRAcquisitionAuctionCleanPrice_x.fillna(db10.MMRAcquisitionAuctionCleanPrice_y, inplace=True)\n",
    "db10=db10.rename(columns = {'MMRAcquisitionAuctionCleanPrice_x':'MMRAcquisitionAuctionCleanPrice'})\n",
    "db10=db10.drop(['MMRAcquisitionAuctionCleanPrice_y'],axis=1)\n",
    "\n",
    "print('Number of null values in MMRAcquisitionAuctionCleanPrice now: ', db10.MMRAcquisitionAuctionCleanPrice.isna().sum())"
   ]
  },
  {
   "cell_type": "code",
   "execution_count": 444,
   "id": "0d562787",
   "metadata": {},
   "outputs": [
    {
     "name": "stdout",
     "output_type": "stream",
     "text": [
      "18\n",
      "72965\n",
      "MSE:  1191.7273263974357\n"
     ]
    }
   ],
   "source": [
    "df2=db10[db10['MMRAcquisitionRetailAveragePrice'].isnull()]\n",
    "print(len(df2.index))\n",
    "\n",
    "df3 = db10[~db10.index.isin(df2.index)]\n",
    "print(len(df3.index))\n",
    "\n",
    "df4_c = df3[['VehBCost','WarrantyCost','VehicleAge','IsBadBuy','WheelTypeID','MMRAcquisitionAuctionAveragePrice','MMRAcquisitionAuctionCleanPrice','MMRAcquisitionRetailAveragePrice']]\n",
    "\n",
    "x_c = df4_c[['VehBCost','WarrantyCost','VehicleAge','IsBadBuy','WheelTypeID','MMRAcquisitionAuctionAveragePrice','MMRAcquisitionAuctionCleanPrice']]\n",
    "y_c = df4_c[['MMRAcquisitionRetailAveragePrice']]\n",
    "\n",
    "x_train, x_test, y_train, y_test = train_test_split(x_c, y_c, test_size = 0.3)\n",
    "\n",
    "model_c = LinearRegression()\n",
    "model_c.fit(x_train,y_train)\n",
    "# print(model_a.coef_)\n",
    "prediction_c = model_c.predict(x_test)\n",
    "print('MSE: ', metrics.mean_absolute_error(y_test, prediction_c))\n",
    "# print(model_a.coef_)\n"
   ]
  },
  {
   "cell_type": "code",
   "execution_count": 445,
   "id": "daeb6a32",
   "metadata": {},
   "outputs": [
    {
     "name": "stdout",
     "output_type": "stream",
     "text": [
      "Number of null values in MMRAcquisitionRetailAveragePrice earlier:  18\n",
      "Number of null values in MMRAcquisitionRetailAveragePrice now:  0\n"
     ]
    },
    {
     "name": "stderr",
     "output_type": "stream",
     "text": [
      "<ipython-input-445-f63d9624a9ca>:12: SettingWithCopyWarning: \n",
      "A value is trying to be set on a copy of a slice from a DataFrame.\n",
      "Try using .loc[row_indexer,col_indexer] = value instead\n",
      "\n",
      "See the caveats in the documentation: https://pandas.pydata.org/pandas-docs/stable/user_guide/indexing.html#returning-a-view-versus-a-copy\n",
      "  x_c2['MMRAcquisitionRetailAveragePrice'] = prediction_c2\n"
     ]
    }
   ],
   "source": [
    "## Filling Nan values of MMRAcquisitionRetailAveragePrice feature\n",
    "\n",
    "model_c2 = LinearRegression()\n",
    "model_c2.fit(x_c,y_c)\n",
    "\n",
    "x_c2 = df2[['VehBCost','WarrantyCost','VehicleAge','IsBadBuy','WheelTypeID','MMRAcquisitionAuctionAveragePrice','MMRAcquisitionAuctionCleanPrice']]\n",
    "y_c2 = df2[['MMRAcquisitionRetailAveragePrice']]\n",
    "\n",
    "prediction_c2 = model_c2.predict(x_c2)\n",
    "# print(prediction_a2)\n",
    "\n",
    "x_c2['MMRAcquisitionRetailAveragePrice'] = prediction_c2\n",
    "x_c2 = x_c2[['MMRAcquisitionRetailAveragePrice']]\n",
    "\n",
    "# # print(x_a2)\n",
    "\n",
    "print('Number of null values in MMRAcquisitionRetailAveragePrice earlier: ', db10.MMRAcquisitionRetailAveragePrice.isna().sum())\n",
    "db11 = pd.merge(db10, x_c2, how='left',left_index=True,right_index=True)\n",
    "# # print(db9)\n",
    "\n",
    "db11.MMRAcquisitionRetailAveragePrice_x.fillna(db11.MMRAcquisitionRetailAveragePrice_y, inplace=True)\n",
    "db11=db11.rename(columns = {'MMRAcquisitionRetailAveragePrice_x':'MMRAcquisitionRetailAveragePrice'})\n",
    "db11=db11.drop(['MMRAcquisitionRetailAveragePrice_y'],axis=1)\n",
    "\n",
    "print('Number of null values in MMRAcquisitionRetailAveragePrice now: ', db11.MMRAcquisitionRetailAveragePrice.isna().sum())"
   ]
  },
  {
   "cell_type": "code",
   "execution_count": 446,
   "id": "aab3250e",
   "metadata": {},
   "outputs": [
    {
     "name": "stdout",
     "output_type": "stream",
     "text": [
      "18\n",
      "72965\n",
      "MSE:  149.2660552946655\n"
     ]
    }
   ],
   "source": [
    "df2=db11[db11['MMRAcquisitonRetailCleanPrice'].isnull()]\n",
    "print(len(df2.index))\n",
    "\n",
    "df3 = db11[~db11.index.isin(df2.index)]\n",
    "print(len(df3.index))\n",
    "\n",
    "df4_d = df3[['VehBCost','WarrantyCost','VehicleAge','IsBadBuy','WheelTypeID','MMRAcquisitionAuctionAveragePrice','MMRAcquisitionAuctionCleanPrice','MMRAcquisitionRetailAveragePrice','MMRAcquisitonRetailCleanPrice']]\n",
    "\n",
    "x_d = df4_d[['VehBCost','WarrantyCost','VehicleAge','IsBadBuy','WheelTypeID','MMRAcquisitionAuctionAveragePrice','MMRAcquisitionAuctionCleanPrice','MMRAcquisitionRetailAveragePrice']]\n",
    "y_d = df4_d[['MMRAcquisitonRetailCleanPrice']]\n",
    "\n",
    "x_train, x_test, y_train, y_test = train_test_split(x_d, y_d, test_size = 0.3)\n",
    "\n",
    "model_d = LinearRegression()\n",
    "model_d.fit(x_train,y_train)\n",
    "# print(model_a.coef_)\n",
    "prediction_d = model_d.predict(x_test)\n",
    "print('MSE: ', metrics.mean_absolute_error(y_test, prediction_d))\n",
    "# print(model_a.coef_)\n"
   ]
  },
  {
   "cell_type": "code",
   "execution_count": 447,
   "id": "6c6857c3",
   "metadata": {},
   "outputs": [
    {
     "name": "stdout",
     "output_type": "stream",
     "text": [
      "Number of null values in MMRAcquisitonRetailCleanPrice earlier:  18\n",
      "Number of null values in MMRAcquisitonRetailCleanPrice now:  0\n"
     ]
    },
    {
     "name": "stderr",
     "output_type": "stream",
     "text": [
      "<ipython-input-447-59ad1bda8328>:12: SettingWithCopyWarning: \n",
      "A value is trying to be set on a copy of a slice from a DataFrame.\n",
      "Try using .loc[row_indexer,col_indexer] = value instead\n",
      "\n",
      "See the caveats in the documentation: https://pandas.pydata.org/pandas-docs/stable/user_guide/indexing.html#returning-a-view-versus-a-copy\n",
      "  x_d2['MMRAcquisitonRetailCleanPrice'] = prediction_d2\n"
     ]
    }
   ],
   "source": [
    "## Filling Nan values of MMRAcquisitonRetailCleanPrice feature\n",
    "\n",
    "model_d2 = LinearRegression()\n",
    "model_d2.fit(x_d,y_d)\n",
    "\n",
    "x_d2 = df2[['VehBCost','WarrantyCost','VehicleAge','IsBadBuy','WheelTypeID','MMRAcquisitionAuctionAveragePrice','MMRAcquisitionAuctionCleanPrice','MMRAcquisitionRetailAveragePrice']]\n",
    "y_d2 = df2[['MMRAcquisitonRetailCleanPrice']]\n",
    "\n",
    "prediction_d2 = model_d2.predict(x_d2)\n",
    "# print(prediction_a2)\n",
    "\n",
    "x_d2['MMRAcquisitonRetailCleanPrice'] = prediction_d2\n",
    "x_d2 = x_d2[['MMRAcquisitonRetailCleanPrice']]\n",
    "\n",
    "# # print(x_a2)\n",
    "\n",
    "print('Number of null values in MMRAcquisitonRetailCleanPrice earlier: ', db11.MMRAcquisitonRetailCleanPrice.isna().sum())\n",
    "db12 = pd.merge(db11, x_d2, how='left',left_index=True,right_index=True)\n",
    "# # print(db9)\n",
    "\n",
    "db12.MMRAcquisitonRetailCleanPrice_x.fillna(db12.MMRAcquisitonRetailCleanPrice_y, inplace=True)\n",
    "db12=db12.rename(columns = {'MMRAcquisitonRetailCleanPrice_x':'MMRAcquisitonRetailCleanPrice'})\n",
    "db12=db12.drop(['MMRAcquisitonRetailCleanPrice_y'],axis=1)\n",
    "\n",
    "print('Number of null values in MMRAcquisitonRetailCleanPrice now: ', db12.MMRAcquisitonRetailCleanPrice.isna().sum())"
   ]
  },
  {
   "cell_type": "code",
   "execution_count": 448,
   "id": "5af9996b",
   "metadata": {},
   "outputs": [
    {
     "name": "stdout",
     "output_type": "stream",
     "text": [
      "315\n",
      "72668\n",
      "MSE:  505.1028693273258\n"
     ]
    }
   ],
   "source": [
    "### Similarily filling Nan values of MMRCurrentAuctionAveragePrice, MMRCurrentAuctionCleanPrice, MMRCurrentRetailAveragePrice & MMRCurrentRetailCleanPrice\n",
    "\n",
    "df2=db12[db12['MMRCurrentAuctionAveragePrice'].isnull()]\n",
    "print(len(df2.index))\n",
    "\n",
    "df3 = db12[~db12.index.isin(df2.index)]\n",
    "print(len(df3.index))\n",
    "\n",
    "df4_a = df3[['VehBCost','WarrantyCost','VehicleAge','IsBadBuy','MMRAcquisitionAuctionAveragePrice','MMRCurrentAuctionAveragePrice']]\n",
    "\n",
    "x_a = df4_a[['VehBCost','WarrantyCost','VehicleAge','IsBadBuy','MMRAcquisitionAuctionAveragePrice']]\n",
    "y_a = df4_a[['MMRCurrentAuctionAveragePrice']]\n",
    "\n",
    "x_train, x_test, y_train, y_test = train_test_split(x_a, y_a, test_size = 0.3)\n",
    "\n",
    "model_a = LinearRegression()\n",
    "model_a.fit(x_train,y_train)\n",
    "# print(model_a.coef_)\n",
    "prediction_a = model_a.predict(x_test)\n",
    "print('MSE: ', metrics.mean_absolute_error(y_test, prediction_a))\n",
    "# print(model_a.coef_)\n"
   ]
  },
  {
   "cell_type": "code",
   "execution_count": 449,
   "id": "86f4ab24",
   "metadata": {},
   "outputs": [
    {
     "name": "stdout",
     "output_type": "stream",
     "text": [
      "Number of null values in MMRCurrentAuctionAveragePrice earlier:  315\n",
      "Number of null values in MMRCurrentAuctionAveragePrice now:  0\n"
     ]
    },
    {
     "name": "stderr",
     "output_type": "stream",
     "text": [
      "<ipython-input-449-7f6d7627ea38>:12: SettingWithCopyWarning: \n",
      "A value is trying to be set on a copy of a slice from a DataFrame.\n",
      "Try using .loc[row_indexer,col_indexer] = value instead\n",
      "\n",
      "See the caveats in the documentation: https://pandas.pydata.org/pandas-docs/stable/user_guide/indexing.html#returning-a-view-versus-a-copy\n",
      "  x_a2['MMRCurrentAuctionAveragePrice'] = prediction_a2\n"
     ]
    }
   ],
   "source": [
    "## Filling Nan values of MMRCurrentAuctionAveragePrice feature\n",
    "\n",
    "model_a2 = LinearRegression()\n",
    "model_a2.fit(x_a,y_a)\n",
    "\n",
    "x_a2 = df2[['VehBCost','WarrantyCost','VehicleAge','IsBadBuy','MMRAcquisitionAuctionAveragePrice']]\n",
    "y_a2 = df2[['MMRCurrentAuctionAveragePrice']]\n",
    "\n",
    "prediction_a2 = model_a2.predict(x_a2)\n",
    "# print(prediction_a2)\n",
    "\n",
    "x_a2['MMRCurrentAuctionAveragePrice'] = prediction_a2\n",
    "x_a2 = x_a2[['MMRCurrentAuctionAveragePrice']]\n",
    "\n",
    "# # print(x_a2)\n",
    "\n",
    "print('Number of null values in MMRCurrentAuctionAveragePrice earlier: ', db12.MMRCurrentAuctionAveragePrice.isna().sum())\n",
    "db13 = pd.merge(db12, x_a2, how='left',left_index=True,right_index=True)\n",
    "# # print(db9)\n",
    "\n",
    "db13.MMRCurrentAuctionAveragePrice_x.fillna(db13.MMRCurrentAuctionAveragePrice_y, inplace=True)\n",
    "db13=db13.rename(columns = {'MMRCurrentAuctionAveragePrice_x':'MMRCurrentAuctionAveragePrice'})\n",
    "db13=db13.drop(['MMRCurrentAuctionAveragePrice_y'],axis=1)\n",
    "\n",
    "print('Number of null values in MMRCurrentAuctionAveragePrice now: ', db13.MMRCurrentAuctionAveragePrice.isna().sum())"
   ]
  },
  {
   "cell_type": "code",
   "execution_count": 450,
   "id": "a84de6bd",
   "metadata": {},
   "outputs": [
    {
     "name": "stdout",
     "output_type": "stream",
     "text": [
      "315\n",
      "72668\n",
      "MSE:  569.8777125315072\n"
     ]
    }
   ],
   "source": [
    "df2=db13[db13['MMRCurrentAuctionCleanPrice'].isnull()]\n",
    "print(len(df2.index))\n",
    "\n",
    "df3 = db13[~db13.index.isin(df2.index)]\n",
    "print(len(df3.index))\n",
    "\n",
    "df4_b = df3[['VehBCost','WarrantyCost','VehicleAge','IsBadBuy','MMRAcquisitionAuctionCleanPrice','MMRCurrentAuctionCleanPrice']]\n",
    "\n",
    "x_b = df4_b[['VehBCost','WarrantyCost','VehicleAge','IsBadBuy','MMRAcquisitionAuctionCleanPrice']]\n",
    "y_b = df4_b[['MMRCurrentAuctionCleanPrice']]\n",
    "\n",
    "x_train, x_test, y_train, y_test = train_test_split(x_b, y_b, test_size = 0.3)\n",
    "\n",
    "model_b = LinearRegression()\n",
    "model_b.fit(x_train,y_train)\n",
    "# print(model_a.coef_)\n",
    "prediction_b = model_b.predict(x_test)\n",
    "print('MSE: ', metrics.mean_absolute_error(y_test, prediction_b))\n",
    "# print(model_a.coef_)\n"
   ]
  },
  {
   "cell_type": "code",
   "execution_count": 451,
   "id": "47d268a3",
   "metadata": {},
   "outputs": [
    {
     "name": "stdout",
     "output_type": "stream",
     "text": [
      "Number of null values in MMRCurrentAuctionCleanPrice earlier:  315\n",
      "Number of null values in MMRCurrentAuctionCleanPrice now:  0\n"
     ]
    },
    {
     "name": "stderr",
     "output_type": "stream",
     "text": [
      "<ipython-input-451-46e057b21917>:12: SettingWithCopyWarning: \n",
      "A value is trying to be set on a copy of a slice from a DataFrame.\n",
      "Try using .loc[row_indexer,col_indexer] = value instead\n",
      "\n",
      "See the caveats in the documentation: https://pandas.pydata.org/pandas-docs/stable/user_guide/indexing.html#returning-a-view-versus-a-copy\n",
      "  x_b2['MMRCurrentAuctionCleanPrice'] = prediction_b2\n"
     ]
    }
   ],
   "source": [
    "## Filling Nan values of MMRCurrentAuctionCleanPrice feature\n",
    "\n",
    "model_b2 = LinearRegression()\n",
    "model_b2.fit(x_b,y_b)\n",
    "\n",
    "x_b2 = df2[['VehBCost','WarrantyCost','VehicleAge','IsBadBuy','MMRAcquisitionAuctionCleanPrice']]\n",
    "y_b2 = df2[['MMRCurrentAuctionCleanPrice']]\n",
    "\n",
    "prediction_b2 = model_b2.predict(x_b2)\n",
    "# print(prediction_a2)\n",
    "\n",
    "x_b2['MMRCurrentAuctionCleanPrice'] = prediction_b2\n",
    "x_b2 = x_b2[['MMRCurrentAuctionCleanPrice']]\n",
    "\n",
    "# # print(x_a2)\n",
    "\n",
    "print('Number of null values in MMRCurrentAuctionCleanPrice earlier: ', db13.MMRCurrentAuctionCleanPrice.isna().sum())\n",
    "db14 = pd.merge(db13, x_b2, how='left',left_index=True,right_index=True)\n",
    "# # print(db9)\n",
    "\n",
    "db14.MMRCurrentAuctionCleanPrice_x.fillna(db14.MMRCurrentAuctionCleanPrice_y, inplace=True)\n",
    "db14=db14.rename(columns = {'MMRCurrentAuctionCleanPrice_x':'MMRCurrentAuctionCleanPrice'})\n",
    "db14=db14.drop(['MMRCurrentAuctionCleanPrice_y'],axis=1)\n",
    "\n",
    "print('Number of null values in MMRCurrentAuctionCleanPrice now: ', db14.MMRCurrentAuctionCleanPrice.isna().sum())"
   ]
  },
  {
   "cell_type": "code",
   "execution_count": 452,
   "id": "b27c93cd",
   "metadata": {},
   "outputs": [
    {
     "name": "stdout",
     "output_type": "stream",
     "text": [
      "315\n",
      "72668\n",
      "MSE:  785.4069587337415\n"
     ]
    }
   ],
   "source": [
    "df2=db14[db14['MMRCurrentRetailAveragePrice'].isnull()]\n",
    "print(len(df2.index))\n",
    "\n",
    "df3 = db14[~db14.index.isin(df2.index)]\n",
    "print(len(df3.index))\n",
    "\n",
    "df4_c = df3[['VehBCost','WarrantyCost','VehicleAge','IsBadBuy','MMRAcquisitionRetailAveragePrice','MMRCurrentRetailAveragePrice']]\n",
    "\n",
    "x_c = df4_c[['VehBCost','WarrantyCost','VehicleAge','IsBadBuy','MMRAcquisitionRetailAveragePrice']]\n",
    "y_c = df4_c[['MMRCurrentRetailAveragePrice']]\n",
    "\n",
    "x_train, x_test, y_train, y_test = train_test_split(x_c, y_c, test_size = 0.3)\n",
    "\n",
    "model_c = LinearRegression()\n",
    "model_c.fit(x_train,y_train)\n",
    "# print(model_a.coef_)\n",
    "prediction_c = model_c.predict(x_test)\n",
    "print('MSE: ', metrics.mean_absolute_error(y_test, prediction_c))\n",
    "# print(model_a.coef_)\n"
   ]
  },
  {
   "cell_type": "code",
   "execution_count": 453,
   "id": "1fe56539",
   "metadata": {},
   "outputs": [
    {
     "name": "stdout",
     "output_type": "stream",
     "text": [
      "Number of null values in MMRCurrentRetailAveragePrice earlier:  315\n",
      "Number of null values in MMRCurrentRetailAveragePrice now:  0\n"
     ]
    },
    {
     "name": "stderr",
     "output_type": "stream",
     "text": [
      "<ipython-input-453-0f329dc59703>:12: SettingWithCopyWarning: \n",
      "A value is trying to be set on a copy of a slice from a DataFrame.\n",
      "Try using .loc[row_indexer,col_indexer] = value instead\n",
      "\n",
      "See the caveats in the documentation: https://pandas.pydata.org/pandas-docs/stable/user_guide/indexing.html#returning-a-view-versus-a-copy\n",
      "  x_c2['MMRCurrentRetailAveragePrice'] = prediction_c2\n"
     ]
    }
   ],
   "source": [
    "## Filling Nan values of MMRCurrentRetailAveragePrice feature\n",
    "\n",
    "model_c2 = LinearRegression()\n",
    "model_c2.fit(x_c,y_c)\n",
    "\n",
    "x_c2 = df2[['VehBCost','WarrantyCost','VehicleAge','IsBadBuy','MMRAcquisitionRetailAveragePrice']]\n",
    "y_c2 = df2[['MMRCurrentRetailAveragePrice']]\n",
    "\n",
    "prediction_c2 = model_c2.predict(x_c2)\n",
    "# print(prediction_a2)\n",
    "\n",
    "x_c2['MMRCurrentRetailAveragePrice'] = prediction_c2\n",
    "x_c2 = x_c2[['MMRCurrentRetailAveragePrice']]\n",
    "\n",
    "# # print(x_a2)\n",
    "\n",
    "print('Number of null values in MMRCurrentRetailAveragePrice earlier: ', db14.MMRCurrentRetailAveragePrice.isna().sum())\n",
    "db15 = pd.merge(db14, x_c2, how='left',left_index=True,right_index=True)\n",
    "# # print(db9)\n",
    "\n",
    "db15.MMRCurrentRetailAveragePrice_x.fillna(db15.MMRCurrentRetailAveragePrice_y, inplace=True)\n",
    "db15=db15.rename(columns = {'MMRCurrentRetailAveragePrice_x':'MMRCurrentRetailAveragePrice'})\n",
    "db15=db15.drop(['MMRCurrentRetailAveragePrice_y'],axis=1)\n",
    "\n",
    "print('Number of null values in MMRCurrentRetailAveragePrice now: ', db15.MMRCurrentRetailAveragePrice.isna().sum())"
   ]
  },
  {
   "cell_type": "code",
   "execution_count": 454,
   "id": "b96046c3",
   "metadata": {},
   "outputs": [
    {
     "name": "stdout",
     "output_type": "stream",
     "text": [
      "315\n",
      "72668\n",
      "MSE:  871.6760437368703\n"
     ]
    }
   ],
   "source": [
    "df2=db15[db15['MMRCurrentRetailCleanPrice'].isnull()]\n",
    "print(len(df2.index))\n",
    "\n",
    "df3 = db15[~db15.index.isin(df2.index)]\n",
    "print(len(df3.index))\n",
    "\n",
    "df4_d = df3[['VehBCost','WarrantyCost','VehicleAge','IsBadBuy','MMRAcquisitonRetailCleanPrice','MMRCurrentRetailCleanPrice']]\n",
    "\n",
    "x_d = df4_d[['VehBCost','WarrantyCost','VehicleAge','IsBadBuy','MMRAcquisitonRetailCleanPrice']]\n",
    "y_d = df4_d[['MMRCurrentRetailCleanPrice']]\n",
    "\n",
    "x_train, x_test, y_train, y_test = train_test_split(x_d, y_d, test_size = 0.3)\n",
    "\n",
    "model_d = LinearRegression()\n",
    "model_d.fit(x_train,y_train)\n",
    "# print(model_a.coef_)\n",
    "prediction_d = model_d.predict(x_test)\n",
    "print('MSE: ', metrics.mean_absolute_error(y_test, prediction_d))\n",
    "# print(model_a.coef_)\n"
   ]
  },
  {
   "cell_type": "code",
   "execution_count": 455,
   "id": "72137a08",
   "metadata": {},
   "outputs": [
    {
     "name": "stdout",
     "output_type": "stream",
     "text": [
      "Number of null values in MMRCurrentRetailCleanPrice earlier:  315\n",
      "Number of null values in MMRCurrentRetailCleanPrice now:  0\n"
     ]
    },
    {
     "name": "stderr",
     "output_type": "stream",
     "text": [
      "<ipython-input-455-b98fc2dba6a7>:12: SettingWithCopyWarning: \n",
      "A value is trying to be set on a copy of a slice from a DataFrame.\n",
      "Try using .loc[row_indexer,col_indexer] = value instead\n",
      "\n",
      "See the caveats in the documentation: https://pandas.pydata.org/pandas-docs/stable/user_guide/indexing.html#returning-a-view-versus-a-copy\n",
      "  x_d2['MMRCurrentRetailCleanPrice'] = prediction_d2\n"
     ]
    }
   ],
   "source": [
    "## Filling Nan values of MMRCurrentRetailCleanPrice feature\n",
    "\n",
    "model_d2 = LinearRegression()\n",
    "model_d2.fit(x_d,y_d)\n",
    "\n",
    "x_d2 = df2[['VehBCost','WarrantyCost','VehicleAge','IsBadBuy','MMRAcquisitonRetailCleanPrice']]\n",
    "y_d2 = df2[['MMRCurrentRetailCleanPrice']]\n",
    "\n",
    "prediction_d2 = model_d2.predict(x_d2)\n",
    "# print(prediction_a2)\n",
    "\n",
    "x_d2['MMRCurrentRetailCleanPrice'] = prediction_d2\n",
    "x_d2 = x_d2[['MMRCurrentRetailCleanPrice']]\n",
    "\n",
    "# # print(x_a2)\n",
    "\n",
    "print('Number of null values in MMRCurrentRetailCleanPrice earlier: ', db15.MMRCurrentRetailCleanPrice.isna().sum())\n",
    "db16 = pd.merge(db15, x_d2, how='left',left_index=True,right_index=True)\n",
    "# # print(db9)\n",
    "\n",
    "db16.MMRCurrentRetailCleanPrice_x.fillna(db16.MMRCurrentRetailCleanPrice_y, inplace=True)\n",
    "db16=db16.rename(columns = {'MMRCurrentRetailCleanPrice_x':'MMRCurrentRetailCleanPrice'})\n",
    "db16=db16.drop(['MMRCurrentRetailCleanPrice_y'],axis=1)\n",
    "\n",
    "print('Number of null values in MMRCurrentRetailCleanPrice now: ', db16.MMRCurrentRetailCleanPrice.isna().sum())"
   ]
  },
  {
   "cell_type": "code",
   "execution_count": 456,
   "id": "c63eacbe",
   "metadata": {},
   "outputs": [],
   "source": [
    "db = db16.copy()\n"
   ]
  },
  {
   "cell_type": "code",
   "execution_count": 457,
   "id": "395ad91f",
   "metadata": {},
   "outputs": [
    {
     "name": "stdout",
     "output_type": "stream",
     "text": [
      "['RED' 'WHITE' 'MAROON' 'SILVER' 'BLACK' 'GOLD' 'GREY' 'BLUE' 'BEIGE'\n",
      " 'PURPLE' 'ORANGE' 'GREEN' 'BROWN' 'YELLOW' 'NOT AVAIL' 'OTHER' nan]\n",
      "Number of null values in Color earlier:  8\n",
      "Number of null values in Color now:  0\n"
     ]
    },
    {
     "data": {
      "image/png": "[encoded data removed]",
      "text/plain": [
       "<Figure size 432x288 with 1 Axes>"
      ]
     },
     "metadata": {
      "needs_background": "light"
     },
     "output_type": "display_data"
    }
   ],
   "source": [
    "# print(db.Color.unique())\n",
    "\n",
    "unique_values_Color = db.Color.unique()\n",
    "print(unique_values_Color) #since it has more than one unique element, we can't simply remove this feature\n",
    "count = db['Color'].value_counts()\n",
    "# print(count)\n",
    "\n",
    "fig, ax = plt.subplots()\n",
    "db['Color'].value_counts().plot(ax=ax, kind='bar')\n",
    "\n",
    "print('Number of null values in Color earlier: ', db.Color.isna().sum())\n",
    "\n",
    "# db['Color'] = db['Color'].fillna(np.random.choice(db['Color'].values.tolist()))\n",
    "unique_values_Color = unique_values_Color[:-1]\n",
    "\n",
    "db['Color'] = db['Color'].fillna(pd.Series(np.random.choice(unique_values_Color, size=len(db.index))))\n",
    "print('Number of null values in Color now: ', db.Color.isna().sum())\n",
    "\n",
    "\n",
    "# df2 = db.groupby('Color')['IsBadBuy'].sum()\n",
    "# df3 = db.groupby('Color')['RefId'].count()\n",
    "\n",
    "# df4 = pd.merge(df2, df3, left_index=True, right_index=True)\n",
    "# df4.columns = ['Number_of_bad_buy','Total_buy']\n",
    "\n",
    "# df4['Percentage_of_bad_buy'] = (df4['Number_of_bad_buy']/df4['Total_buy'])*100\n"
   ]
  },
  {
   "cell_type": "code",
   "execution_count": 458,
   "id": "2ed3da8c",
   "metadata": {},
   "outputs": [
    {
     "name": "stdout",
     "output_type": "stream",
     "text": [
      "RefId                                  0\n",
      "IsBadBuy                               0\n",
      "PurchDate                              0\n",
      "Auction                                0\n",
      "VehYear                                0\n",
      "VehicleAge                             0\n",
      "Make                                   0\n",
      "Model                                  0\n",
      "Trim                                 878\n",
      "SubModel                               0\n",
      "Color                                  0\n",
      "Transmission                           0\n",
      "WheelTypeID                            0\n",
      "VehOdo                                 0\n",
      "Nationality                            0\n",
      "Size                                   0\n",
      "TopThreeAmericanName                   0\n",
      "MMRAcquisitionAuctionAveragePrice      0\n",
      "MMRAcquisitionAuctionCleanPrice        0\n",
      "MMRAcquisitionRetailAveragePrice       0\n",
      "MMRAcquisitonRetailCleanPrice          0\n",
      "MMRCurrentAuctionAveragePrice          0\n",
      "MMRCurrentAuctionCleanPrice            0\n",
      "MMRCurrentRetailAveragePrice           0\n",
      "MMRCurrentRetailCleanPrice             0\n",
      "BYRNO                                  0\n",
      "VNZIP1                                 0\n",
      "VNST                                   0\n",
      "VehBCost                               0\n",
      "IsOnlineSale                           0\n",
      "WarrantyCost                           0\n",
      "dtype: int64\n"
     ]
    }
   ],
   "source": [
    "print(db.isna().sum())\n",
    "\n",
    "## Still need to fill Nan values for 'Trim' features"
   ]
  },
  {
   "cell_type": "code",
   "execution_count": 459,
   "id": "a10931be",
   "metadata": {},
   "outputs": [],
   "source": [
    "## Will be removing Trim from the dataframe because there are so many Nan values such that we can't rendomly put anything else \n",
    "#and since this is a categorical feature, I would need to use a numeric feature in correspondence with it.\n",
    "\n",
    "db = db.drop(['Trim'],axis=1)\n",
    "\n",
    "db.to_csv('cleanedData_training.csv')"
   ]
  },
  {
   "cell_type": "code",
   "execution_count": null,
   "id": "8ea20098",
   "metadata": {},
   "outputs": [],
   "source": []
  }
 ],
 "metadata": {
  "kernelspec": {
   "display_name": "Python 3",
   "language": "python",
   "name": "python3"
  },
  "language_info": {
   "codemirror_mode": {
    "name": "ipython",
    "version": 3
   },
   "file_extension": ".py",
   "mimetype": "text/x-python",
   "name": "python",
   "nbconvert_exporter": "python",
   "pygments_lexer": "ipython3",
   "version": "3.8.10"
  }
 },
 "nbformat": 4,
 "nbformat_minor": 5
}
